{
 "cells": [
  {
   "cell_type": "code",
   "execution_count": null,
   "metadata": {},
   "outputs": [],
   "source": []
  },
  {
   "cell_type": "markdown",
   "metadata": {},
   "source": [
    "# Exercises from Ryan\n",
    "\n",
    "Create a new notebook or Python script named evaluate.\n",
    "Evaluating simple linear regressions on lemonade data with other features:\n",
    "1. Create a dataframe from the csv at https://gist.githubusercontent.com/ryanorsinger/c303a90050d3192773288f7eea97b708/raw/536533b90bb2bf41cea27a2c96a63347cde082a6/lemonade.csv\n",
    "2. Make a baseline for predicting sales. (The mean is a good baseline)\n",
    "3. Create a new dataframe to hold residuals.\n",
    "4. Calculate the baseline residuals.\n",
    "5. Use ols from statsmodels to create a simple linear regression (1 independent variable, 1 dependent variable) to predict sales using flyers.\n",
    "\n",
    "`the df variable is lemonade data\n",
    "\n",
    "model = ols('sales ~ flyers', data=df).fit()   \n",
    "predictions = model.predict(df.x)`\n",
    "\n",
    "1. Use the .predict method from ols to produce all of our predictions. Add these predictions to the data\n",
    "2. Calculate that model's residuals.\n",
    "3. Evaluate that model's performance and answer if the model is significant.\n",
    "4. Evaluate that model's performance and answer if the feature is significant.\n",
    "\n",
    "#### Repetition Improves Performance!\n",
    "- In the next section of your notebook, perform the steps above with the rainfall column as the model's feature. Does this model beat the baseline? Would you prefer the rainfall model over the flyers model?\n",
    "- In the next section of your notebook, perform the steps above with the log_rainfall column as the model's feature. Does this model beat the baseline? Would you prefer the log_rainfall model over the flyers model? Would you prefer the model built with log_rainfall over the rainfall model from before?\n",
    "- In the next section of your notebook, perform the steps above with the temperature column as the model's only feature. Does this model beat the baseline? Would you prefer the rainfall, log_rainfall, or the flyers model?\n",
    "- Which of these 4 single regression models would you want to move forward with?\n",
    "\n",
    "\n",
    "#### Tips dataset\n",
    "1. Load the tips dataset from pydataset or seaborn\n",
    "2. Define your baseline for \"tip\". Our goal will be to see if we can make a model that is better than baseline for predicting tips on total_bill.\n",
    "3. Fit a linear regression model (ordinary least squares) and compute yhat, predictions of tip using total_bill. Here is some sample code to get you started:\n",
    "`from statsmodels.formula.api import ols\n",
    "from pydataset import data\n",
    "\n",
    "df = data(\"tips\")\n",
    "\n",
    "model = ols('tip ~ total_bill', data=df).fit()\n",
    "\n",
    "predictions = model.predict(df.x)`\n",
    "\n",
    "1. Calculate the sum of squared errors, explained sum of squares, total sum of squares, mean squared error, and root mean squared error for your model.\n",
    "2. Calculate the sum of squared errors, mean squared error, and root mean squared error for the baseline model (i.e. a model that always predicts the average tip amount).\n",
    "3. Write python code that compares the sum of squared errors for your model against the sum of squared errors for the baseline model and outputs whether or not your model performs better than the baseline model.\n",
    "4. What is the amount of variance explained in your model?\n",
    "5. Is your model significantly better than the baseline model?\n",
    "6. Plot the residuals for the linear regression model that you made."
   ]
  },
  {
   "cell_type": "code",
   "execution_count": null,
   "metadata": {},
   "outputs": [],
   "source": [
    "import warnings\n",
    "warnings.filterwarnings(\"ignore\")\n",
    "\n",
    "import pandas as pd\n",
    "import matplotlib.pyplot as plt\n",
    "import seaborn as sns\n",
    "import numpy as np\n",
    "from pydataset import data\n",
    "\n",
    "# Linear Model\n",
    "from statsmodels.formula.api import ols\n",
    "\n",
    "from sklearn.metrics import mean_squared_error\n",
    "from math import sqrt"
   ]
  },
  {
   "cell_type": "code",
   "execution_count": null,
   "metadata": {},
   "outputs": [],
   "source": [
    "#1. create dataframe\n",
    "df = pd.read_clipboard(sep=',', index_col=0)"
   ]
  },
  {
   "cell_type": "code",
   "execution_count": null,
   "metadata": {
    "scrolled": true
   },
   "outputs": [],
   "source": [
    "df.head()"
   ]
  },
  {
   "cell_type": "code",
   "execution_count": null,
   "metadata": {},
   "outputs": [],
   "source": [
    "# 2. Make a baseline\n",
    "baseline = df.Sales.mean()\n",
    "baseline"
   ]
  },
  {
   "cell_type": "code",
   "execution_count": null,
   "metadata": {},
   "outputs": [],
   "source": [
    "# 3. create dataframe to hold baseline residuals\n",
    "# 4. calculate baseline residuals\n",
    "# evaluate = pd.DataFrame()\n",
    "\n",
    "# evaluate[\"x\"] = df.flyers\n",
    "\n",
    "# # Our y is our dependent variable\n",
    "# evaluate[\"y\"] = df.sales\n",
    "# evaluate[\"baseline\"] = df.sales.mean()\n",
    "\n",
    "# # y-hat is shorthand for \"predicted y\" values\n",
    "# evaluate[\"yhat\"] = model.predict()\n",
    "\n",
    "# # Calculate the baseline residuals \n",
    "# # Residual is predicted minus actual\n",
    "# evaluate[\"baseline_residual\"] = evaluate.baseline - evaluate.y\n",
    "\n",
    "# # Calculate the model residuals\n",
    "# evaluate[\"model_residual\"] = evaluate.yhat - evaluate.y\n",
    "\n",
    "# evaluate.head(4)\n",
    "\n",
    "eval1 = pd.DataFrame()\n",
    "eval1['x_flyers'] = df.Flyers\n",
    "eval1['y_sales'] = df.Sales\n",
    "eval1['baseline'] = df.Sales.mean()\n",
    "eval1['baseline_residual'] = eval1.baseline - eval1.y_sales\n",
    "\n",
    "eval1.head()"
   ]
  },
  {
   "cell_type": "code",
   "execution_count": null,
   "metadata": {},
   "outputs": [],
   "source": [
    "# 5. \n",
    "# Pre-requisite Part 2 - build/identify a super simple linear model\n",
    "# We'll use statsmodels OLS (ordinary least squares method here)\n",
    "\n",
    "# The arguments to the ols function are the column names as strings, separated by ~\n",
    "# ols(\"y ~ x\") \n",
    "# ols(\"target ~ feature\")\n",
    "\n",
    "model1 = ols('Sales ~ Flyers', df).fit()\n"
   ]
  },
  {
   "cell_type": "code",
   "execution_count": null,
   "metadata": {},
   "outputs": [],
   "source": [
    "# 5.1 Use the .predict method from ols to produce all of our predictions.\n",
    "# Add these predictions to the data\n",
    "\n",
    "eval1[\"yhat1\"] = model1.predict()"
   ]
  },
  {
   "cell_type": "code",
   "execution_count": null,
   "metadata": {},
   "outputs": [],
   "source": [
    "# 5.2 Calculate that model's residuals.\n",
    "\n",
    "eval1[\"model1_residual\"] = eval1.yhat1 - eval1.y_sales"
   ]
  },
  {
   "cell_type": "code",
   "execution_count": null,
   "metadata": {},
   "outputs": [],
   "source": [
    "# 5.3 Evaluate that model's performance and answer if the model is significant.\n",
    "# Calculate if the model beats the baseline\n",
    "# Square errors for 2 reasons\n",
    "# 1. Squaring large numbers increases their magnitude (opposite for small)\n",
    "# 2. Squaring removes negative residuals\n",
    "baseline_sse = (eval1.baseline_residual**2).sum()\n",
    "model1_sse = (eval1.model1_residual**2).sum()\n",
    "\n",
    "if model1_sse < baseline_sse:\n",
    "    print(\"Our model beats the baseline\")\n",
    "    print(\"It makes sense to evaluate this model more deeply.\")\n",
    "else:\n",
    "    print(\"Our baseline is better than the model.\")\n",
    "\n",
    "print(\"Baseline SSE\", baseline_sse)\n",
    "print(\"Model SSE\", model1_sse)"
   ]
  },
  {
   "cell_type": "code",
   "execution_count": null,
   "metadata": {},
   "outputs": [],
   "source": [
    "# Take the average of the Sum of squared errors\n",
    "# mse = model_sse / len(evaluate)\n",
    "\n",
    "# Or we could calculate this using sklearn's mean_squared_error function\n",
    "mse1 = mean_squared_error(eval1.y_sales, eval1.yhat1)\n",
    "\n",
    "# Now we'll take the Square Root of the Sum of Errors\n",
    "# Taking the square root is nice because the units of the error \n",
    "# will be in the same units as the target variable.\n",
    "rmse1 = sqrt(mse1)\n",
    "\n",
    "print(\"Model 1 evaluates flyers and sales\")\n",
    "print(\"SSE is\", model1_sse, \" which is the sum sf squared errors\")\n",
    "print(\"MSE is\", mse1, \" which is the average squared error\")\n",
    "print(\"RMSE is\", rmse1, \" which is the square root of the MSE\")"
   ]
  },
  {
   "cell_type": "code",
   "execution_count": null,
   "metadata": {},
   "outputs": [],
   "source": [
    "r2m1 = model1.rsquared\n",
    "print('R-squared = ', round(r2m1,3))\n",
    "\n",
    "f_pval1 = model1.f_pvalue\n",
    "print(\"p-value for model significance = \", f_pval1)"
   ]
  },
  {
   "cell_type": "code",
   "execution_count": null,
   "metadata": {},
   "outputs": [],
   "source": [
    "f_pval1 < .05"
   ]
  },
  {
   "cell_type": "code",
   "execution_count": null,
   "metadata": {},
   "outputs": [],
   "source": [
    "# 5.4 Evaluate that model's performance and answer if the feature is significant.\n",
    "# the model only has 1 feature so if the model is significant (and it is) then the feature is significant\n"
   ]
  },
  {
   "cell_type": "markdown",
   "metadata": {},
   "source": [
    "#### In the next section of your notebook, perform the steps above with the rainfall column as the model's feature. \n",
    "\n",
    "#### Does this model beat the baseline? \n",
    "\n",
    "#### Would you prefer the rainfall model over the flyers model?\n"
   ]
  },
  {
   "cell_type": "code",
   "execution_count": null,
   "metadata": {},
   "outputs": [],
   "source": [
    "eval2 = pd.DataFrame()\n",
    "eval2['x_flyers'] = df.Flyers\n",
    "eval2['y_sales'] = df.Sales\n",
    "eval2['baseline'] = df.Sales.mean()\n",
    "eval2['baseline_residual'] = eval2.baseline - eval2.y_sales\n",
    "model2 = ols('Sales ~ Rainfall', df).fit()\n",
    "eval2[\"yhat2\"] = model2.predict()\n",
    "eval2[\"model2_residual\"] = eval2.yhat2 - eval2.y_sales\n",
    "\n",
    "eval2.head()"
   ]
  },
  {
   "cell_type": "code",
   "execution_count": null,
   "metadata": {},
   "outputs": [],
   "source": [
    "baseline_sse = (eval2.baseline_residual**2).sum()\n",
    "model2_sse = (eval2.model2_residual**2).sum()\n",
    "\n",
    "if model2_sse < baseline_sse:\n",
    "    print(\"Our model beats the baseline\")\n",
    "    print(\"It makes sense to evaluate this model more deeply.\")\n",
    "else:\n",
    "    print(\"Our baseline is better than the model.\")\n",
    "\n",
    "print(\"Baseline SSE\", baseline_sse)\n",
    "print(\"Model SSE\", model2_sse)"
   ]
  },
  {
   "cell_type": "code",
   "execution_count": null,
   "metadata": {},
   "outputs": [],
   "source": [
    "mse2 = mean_squared_error(eval2.y_sales, eval2.yhat2)\n",
    "rmse2 = sqrt(mse2)\n",
    "\n",
    "print(\"Model 2 evaluates rainfall and sales\")\n",
    "print(\"SSE is\", model2_sse, \" which is the sum sf squared errors\")\n",
    "print(\"MSE is\", mse2, \" which is the average squared error\")\n",
    "print(\"RMSE is\", rmse2, \" which is the square root of the MSE\")"
   ]
  },
  {
   "cell_type": "code",
   "execution_count": null,
   "metadata": {},
   "outputs": [],
   "source": [
    "r2m2 = model2.rsquared\n",
    "print('R-squared = ', round(r2m2,3))\n",
    "\n",
    "f_pval2 = model2.f_pvalue\n",
    "print(\"p-value for model significance = \", f_pval2)"
   ]
  },
  {
   "cell_type": "code",
   "execution_count": null,
   "metadata": {},
   "outputs": [],
   "source": [
    "f_pval2 < .05"
   ]
  },
  {
   "cell_type": "code",
   "execution_count": null,
   "metadata": {},
   "outputs": [],
   "source": [
    "# the rainfall model performs better than the flyers model, the SSE is almost half that of the flyers model"
   ]
  },
  {
   "cell_type": "markdown",
   "metadata": {},
   "source": [
    "#### In the next section of your notebook, perform the steps above with the log_rainfall column as the model's feature. Does this model beat the baseline? \n",
    "\n",
    "#### Would you prefer the log_rainfall model over the flyers model? \n",
    "\n",
    "#### Would you prefer the model built with log_rainfall over the rainfall model from before?"
   ]
  },
  {
   "cell_type": "code",
   "execution_count": null,
   "metadata": {},
   "outputs": [],
   "source": [
    "# add the log rainfall column to the df\n",
    "df[\"log_rainfall\"] = np.log(df.Rainfall)"
   ]
  },
  {
   "cell_type": "code",
   "execution_count": null,
   "metadata": {},
   "outputs": [],
   "source": [
    "df.head()"
   ]
  },
  {
   "cell_type": "code",
   "execution_count": null,
   "metadata": {},
   "outputs": [],
   "source": [
    "eval3 = pd.DataFrame()\n",
    "eval3['x_flyers'] = df.Flyers\n",
    "eval3['y_sales'] = df.Sales\n",
    "eval3['baseline'] = df.Sales.mean()\n",
    "eval3['baseline_residual'] = eval3.baseline - eval3.y_sales\n",
    "model3 = ols('Sales ~ log_rainfall', df).fit()\n",
    "eval3[\"yhat3\"] = model3.predict()\n",
    "eval3[\"model3_residual\"] = eval3.yhat3 - eval3.y_sales\n",
    "\n",
    "eval3.head()"
   ]
  },
  {
   "cell_type": "code",
   "execution_count": null,
   "metadata": {},
   "outputs": [],
   "source": [
    "baseline_sse = (eval3.baseline_residual**2).sum()\n",
    "model3_sse = (eval3.model3_residual**2).sum()\n",
    "\n",
    "if model3_sse < baseline_sse:\n",
    "    print(\"Our model beats the baseline\")\n",
    "    print(\"It makes sense to evaluate this model more deeply.\")\n",
    "else:\n",
    "    print(\"Our baseline is better than the model.\")\n",
    "\n",
    "print(\"Baseline SSE\", baseline_sse)\n",
    "print(\"Model SSE\", model3_sse)"
   ]
  },
  {
   "cell_type": "code",
   "execution_count": null,
   "metadata": {},
   "outputs": [],
   "source": [
    "mse3 = mean_squared_error(eval3.y_sales, eval3.yhat3)\n",
    "rmse3 = sqrt(mse3)\n",
    "\n",
    "print(\"Model 3 evaluates log_rainfall and sales\")\n",
    "print(\"SSE is\", model3_sse, \" which is the sum sf squared errors\")\n",
    "print(\"MSE is\", mse3, \" which is the average squared error\")\n",
    "print(\"RMSE is\", rmse3, \" which is the square root of the MSE\")"
   ]
  },
  {
   "cell_type": "code",
   "execution_count": null,
   "metadata": {},
   "outputs": [],
   "source": [
    "r2m3 = model3.rsquared\n",
    "print('R-squared = ', round(r2m3,3))\n",
    "\n",
    "f_pval3 = model3.f_pvalue\n",
    "print(\"p-value for model significance = \", f_pval3)"
   ]
  },
  {
   "cell_type": "code",
   "execution_count": null,
   "metadata": {},
   "outputs": [],
   "source": [
    "f_pval3 < .05"
   ]
  },
  {
   "cell_type": "code",
   "execution_count": null,
   "metadata": {},
   "outputs": [],
   "source": [
    "# The log_rainfall performs better than the flyers model and better than Rainfall model.\n",
    "# The SSE for the log_rainfall model is half that of the Rainfall model"
   ]
  },
  {
   "cell_type": "markdown",
   "metadata": {},
   "source": [
    "#### In the next section of your notebook, perform the steps above with the temperature column as the model's only feature. \n",
    "\n",
    "#### Does this model beat the baseline? \n",
    "\n",
    "#### Would you prefer the rainfall, log_rainfall, or the flyers model?"
   ]
  },
  {
   "cell_type": "code",
   "execution_count": null,
   "metadata": {},
   "outputs": [],
   "source": [
    "eval4 = pd.DataFrame()\n",
    "eval4['x_flyers'] = df.Flyers\n",
    "eval4['y_sales'] = df.Sales\n",
    "eval4['baseline'] = df.Sales.mean()\n",
    "eval4['baseline_residual'] = eval4.baseline - eval4.y_sales\n",
    "model4 = ols('Sales ~ Temperature', df).fit()\n",
    "eval4[\"yhat4\"] = model4.predict()\n",
    "eval4[\"model4_residual\"] = eval4.yhat4 - eval4.y_sales\n",
    "\n",
    "eval4.head()"
   ]
  },
  {
   "cell_type": "code",
   "execution_count": null,
   "metadata": {},
   "outputs": [],
   "source": [
    "baseline_sse = (eval4.baseline_residual**2).sum()\n",
    "model4_sse = (eval4.model4_residual**2).sum()\n",
    "\n",
    "if model4_sse < baseline_sse:\n",
    "    print(\"Our model beats the baseline\")\n",
    "    print(\"It makes sense to evaluate this model more deeply.\")\n",
    "else:\n",
    "    print(\"Our baseline is better than the model.\")\n",
    "\n",
    "print(\"Baseline SSE\", baseline_sse)\n",
    "print(\"Model SSE\", model4_sse)"
   ]
  },
  {
   "cell_type": "code",
   "execution_count": null,
   "metadata": {},
   "outputs": [],
   "source": [
    "mse4 = mean_squared_error(eval4.y_sales, eval4.yhat4)\n",
    "rmse4 = sqrt(mse4)\n",
    "\n",
    "print(\"Model 4 evaluates temperature and sales\")\n",
    "print(\"SSE is\", model4_sse, \" which is the sum sf squared errors\")\n",
    "print(\"MSE is\", mse4, \" which is the average squared error\")\n",
    "print(\"RMSE is\", rmse4, \" which is the square root of the MSE\")"
   ]
  },
  {
   "cell_type": "code",
   "execution_count": null,
   "metadata": {},
   "outputs": [],
   "source": [
    "r2m4 = model4.rsquared\n",
    "print('R-squared = ', round(r2m4,3))\n",
    "\n",
    "f_pval4 = model4.f_pvalue\n",
    "print(\"p-value for model significance = \", f_pval4)"
   ]
  },
  {
   "cell_type": "code",
   "execution_count": null,
   "metadata": {},
   "outputs": [],
   "source": [
    "f_pval4 < .05"
   ]
  },
  {
   "cell_type": "code",
   "execution_count": null,
   "metadata": {},
   "outputs": [],
   "source": [
    "# This model has the best performance of all 4 models with the lowest SSE, MSE, RMSE, and p-value\n",
    "# and the R-squared value is the closest to 1"
   ]
  },
  {
   "cell_type": "markdown",
   "metadata": {},
   "source": [
    "### Tips dataset\n",
    "1. Load the tips dataset from pydataset or seaborn\n",
    "2. Define your baseline for \"tip\". Our goal will be to see if we can make a model that is better than baseline for predicting tips on total_bill.\n",
    "3. Fit a linear regression model (ordinary least squares) and compute yhat, predictions of tip using total_bill. Here is some sample code to get you started:\n",
    "`from statsmodels.formula.api import ols\n",
    "from pydataset import data\n",
    "\n",
    "df = data(\"tips\")\n",
    "\n",
    "model = ols('tip ~ total_bill', data=df).fit()\n",
    "\n",
    "predictions = model.predict(df.x)`\n",
    "\n",
    "1. Calculate the sum of squared errors, explained sum of squares, total sum of squares, mean squared error, and root mean squared error for your model.\n",
    "2. Calculate the sum of squared errors, mean squared error, and root mean squared error for the baseline model (i.e. a model that always predicts the average tip amount).\n",
    "3. Write python code that compares the sum of squared errors for your model against the sum of squared errors for the baseline model and outputs whether or not your model performs better than the baseline model.\n",
    "4. What is the amount of variance explained in your model?\n",
    "5. Is your model significantly better than the baseline model?\n",
    "6. Plot the residuals for the linear regression model that you made."
   ]
  },
  {
   "cell_type": "code",
   "execution_count": null,
   "metadata": {},
   "outputs": [],
   "source": [
    "df = data('tips')"
   ]
  },
  {
   "cell_type": "code",
   "execution_count": null,
   "metadata": {},
   "outputs": [],
   "source": [
    "df.head()"
   ]
  },
  {
   "cell_type": "code",
   "execution_count": null,
   "metadata": {},
   "outputs": [],
   "source": [
    "# create model object\n",
    "mo1 = ols('tip ~ total_bill', df).fit()\n",
    "x = 'total_bill'\n",
    "y = 'tip'\n"
   ]
  },
  {
   "cell_type": "code",
   "execution_count": null,
   "metadata": {},
   "outputs": [],
   "source": [
    "def make_evaldf(x, y, model_object, df):\n",
    "    evaldf = pd.DataFrame()\n",
    "    evaldf['x'] = df[x]\n",
    "    evaldf['y'] = df[y]\n",
    "    evaldf['baseline'] = df[y].mean()\n",
    "    evaldf['baseline_residual'] = evaldf.baseline - evaldf.y\n",
    "    evaldf[\"yhat\"] = model_object.predict()\n",
    "    evaldf[\"model_residual\"] = evaldf.yhat - evaldf.y\n",
    "    return evaldf\n"
   ]
  },
  {
   "cell_type": "code",
   "execution_count": null,
   "metadata": {},
   "outputs": [],
   "source": [
    "evaldf = make_evaldf(x, y, mo1, df)"
   ]
  },
  {
   "cell_type": "code",
   "execution_count": null,
   "metadata": {},
   "outputs": [],
   "source": [
    "evaldf.head()"
   ]
  },
  {
   "cell_type": "code",
   "execution_count": null,
   "metadata": {},
   "outputs": [],
   "source": [
    "def metrics(df, model_object):\n",
    "    baseline_sse = (df.baseline_residual**2).sum()\n",
    "    model_sse = (df.model_residual**2).sum()\n",
    "\n",
    "    if model_sse < baseline_sse:\n",
    "        print(\"Our model beats the baseline\")\n",
    "        print(\"It makes sense to evaluate this model more deeply.\")\n",
    "    else:\n",
    "        print(\"Our baseline is better than the model.\")\n",
    "\n",
    "    print(\"Baseline SSE\", baseline_sse)\n",
    "    print(\"Model SSE\", model4_sse)\n",
    "    \n",
    "    mse = mean_squared_error(df.y, df.yhat)\n",
    "    rmse = sqrt(mse)\n",
    "\n",
    "    print(\"MSE is\", mse, \" which is the average squared error\")\n",
    "    print(\"RMSE is\", rmse, \" which is the square root of the MSE\")\n",
    "    \n",
    "    r2 = model_object.rsquared\n",
    "    print('R-squared = ', round(r2m4,3))\n",
    "\n",
    "    f_pval = model_object.f_pvalue\n",
    "    print(\"p-value for model significance = \", f_pval)\n",
    "    \n",
    "    alpha = .05\n",
    "    print(f'f_pval is less than {alpha} = {f_pval<alpha}')"
   ]
  },
  {
   "cell_type": "code",
   "execution_count": null,
   "metadata": {},
   "outputs": [],
   "source": [
    "metrics(evaldf, mo1)"
   ]
  },
  {
   "cell_type": "code",
   "execution_count": null,
   "metadata": {},
   "outputs": [],
   "source": [
    "# What is the amount of variance explained in your model?\n",
    "# that is the r-squared value which is 0.98"
   ]
  },
  {
   "cell_type": "code",
   "execution_count": null,
   "metadata": {},
   "outputs": [],
   "source": [
    "def plot_residuals(actual, predicted):\n",
    "    residuals = actual - predicted\n",
    "    plt.hlines(0, actual.min(), actual.max(), ls=':')\n",
    "    plt.scatter(actual, residuals)\n",
    "    plt.ylabel('residual ($y - \\hat{y}$)')\n",
    "    plt.xlabel('actual value ($y$)')\n",
    "    plt.title('Actual vs Residual')\n",
    "    return plt.gca()"
   ]
  },
  {
   "cell_type": "code",
   "execution_count": null,
   "metadata": {},
   "outputs": [],
   "source": [
    "plot_residuals(evaldf.y, evaldf.yhat)"
   ]
  },
  {
   "cell_type": "code",
   "execution_count": null,
   "metadata": {},
   "outputs": [],
   "source": []
  },
  {
   "cell_type": "markdown",
   "metadata": {},
   "source": [
    "# Curiculum Exercises - per Ryan optional\n",
    "\n",
    "Do you work for this exercise in either a jupyter notebook named evaluate within your regression-exercises repository. By the end of this exercise you will also create a python script named evaluate, so the overall deliverables for this exercise are the python script and jupyter notebook both with the name evaluate within your regression-exercises repo.\n",
    "\n",
    "1. Load the tips dataset from either pydataset or seaborn.\n",
    "\n",
    "2. Fit a linear regression model (ordinary least squares) and compute yhat, predictions of tip using total_bill.\n",
    "\n",
    "Here is some sample code to get you started:\n",
    "\n",
    "`from statsmodels.formula.api import ols\n",
    "\n",
    "model = ols('y ~ x', data=df).fit()\n",
    "\n",
    "predictions = model.predict(df.x)`\n",
    "\n",
    "The code above fits a linear regression model on the df dataset, using column y as the target and column x as the predictor. Modify the code as necessary to work with the tips dataset.\n",
    "\n",
    "3. Plot the residuals for the linear regression model that you made.\n",
    "\n",
    "4. Calculate the sum of squared errors, explained sum of squares, total sum of squares, mean squared error, and root mean squared error for your model.\n",
    "\n",
    "5. Calculate the sum of squared errors, mean squared error, and root mean squared error for the baseline model (i.e. a model that always predicts the average tip amount).\n",
    "\n",
    "6. Write python code that compares the sum of squared errors for your model against the sum of squared errors for the baseline model and outputs whether or not your model performs better than the baseline model.\n",
    "\n",
    "7. What is the amount of variance explained in your model?\n",
    "\n",
    "8. Is your model significantly better than the baseline model?\n",
    "\n",
    "9. Create a file named evaluate.py that contains the following functions.\n",
    "\n",
    "plot_residuals(y, yhat): creates a residual plot   \n",
    "\n",
    "regression_errors(y, yhat): returns the following values:\n",
    "sum of squared errors (SSE)   \n",
    "explained sum of squares (ESS)   \n",
    "total sum of squares (TSS)   \n",
    "mean squared error (MSE)   \n",
    "root mean squared error (RMSE)  \n",
    "\n",
    "baseline_mean_errors(y): computes the SSE, MSE, and RMSE for the baseline model   \n",
    "\n",
    "better_than_baseline(y, yhat): returns true if your model performs better than the baseline, otherwise false\n",
    "\n",
    "model_significance(ols_model): that takes the ols model as input and returns the amount of variance explained in your model, and the value telling you whether your model is significantly better than the baseline model (Hint: use the rsquared and f_pvalue properties from the ols model)\n",
    "\n",
    "10. Load the mpg dataset and fit a model that predicts highway mileage based on engine displacement. Take a look at all the regression evaluation metrics, and determine whether this model is better than the baseline model. Use the functions from your evaluate.py to help accomplish this."
   ]
  },
  {
   "cell_type": "code",
   "execution_count": null,
   "metadata": {},
   "outputs": [],
   "source": [
    "# 1. Load the tips dataset from either pydataset or seaborn.\n",
    "df = data('tips')\n",
    "df.head()"
   ]
  },
  {
   "cell_type": "code",
   "execution_count": null,
   "metadata": {},
   "outputs": [],
   "source": [
    "# 2. Fit a linear regression model (ordinary least squares) and compute yhat, predictions of tip using total_bill.\n",
    "evaldf = make_evaldf(x, y, mo1, df)\n",
    "evaldf.head()"
   ]
  },
  {
   "cell_type": "code",
   "execution_count": null,
   "metadata": {},
   "outputs": [],
   "source": [
    "# 3. Plot the residuals for the linear regression model that you made.\n",
    "plot_residuals(evaldf.y, evaldf.yhat)"
   ]
  },
  {
   "cell_type": "code",
   "execution_count": null,
   "metadata": {},
   "outputs": [],
   "source": [
    "# 4. Calculate the sum of squared errors, explained sum of squares, total sum of squares, mean squared error, \n",
    "# and root mean squared error for your model.\n",
    "# 5. Calculate the sum of squared errors, mean squared error, and root mean squared error for the baseline model\n",
    "# (i.e. a model that always predicts the average tip amount).\n",
    "# 6. Write python code that compares the sum of squared errors for your model against the sum of squared errors\n",
    "# for the baseline model and outputs whether or not your model performs better than the baseline model.\n",
    "metrics(evaldf, mo1)"
   ]
  },
  {
   "cell_type": "code",
   "execution_count": null,
   "metadata": {},
   "outputs": [],
   "source": [
    "# 7. Write python code that compares the sum of squared errors for your model against the sum of squared errors\n",
    "# for the baseline model and outputs whether or not your model performs better than the baseline model.\n",
    "# that is the r-squared value which is 0.98"
   ]
  },
  {
   "cell_type": "code",
   "execution_count": null,
   "metadata": {},
   "outputs": [],
   "source": [
    "# 8. Is your model significantly better than the baseline model?\n",
    "# yes, the f_pval is < alpha of .05"
   ]
  },
  {
   "cell_type": "code",
   "execution_count": null,
   "metadata": {},
   "outputs": [],
   "source": [
    "# 9. Create a file named evaluate.py that contains the following functions\n",
    "\n",
    "# create model object\n",
    "def make_model_object(feature, target, df):\n",
    "    model_object = ols('target ~ feature', df).fit()\n",
    "    x = feature\n",
    "    y = target\n",
    "    return model_object\n",
    "\n",
    "# create evaluation dataframe\n",
    "def make_evaldf(feature, target, model_object, df):\n",
    "    evaldf = pd.DataFrame()\n",
    "    evaldf['feature'] = df[feature]\n",
    "    evaldf['target'] = df[target]\n",
    "    evaldf['baseline'] = df[target].mean()\n",
    "    evaldf['baseline_residual'] = evaldf.baseline - evaldf.target\n",
    "    evaldf[\"yhat\"] = model_object.predict()\n",
    "    evaldf[\"model_residual\"] = evaldf.yhat - evaldf.target\n",
    "    return evaldf\n",
    "\n",
    "# create dataframe metrics from evaluation datafram\n",
    "def metrics(df, model_object):\n",
    "    baseline_sse = (df.baseline_residual**2).sum()\n",
    "    model_sse = (df.model_residual**2).sum()\n",
    "\n",
    "    if model_sse < baseline_sse:\n",
    "        print(\"Our model beats the baseline\")\n",
    "        print(\"It makes sense to evaluate this model more deeply.\")\n",
    "    else:\n",
    "        print(\"Our baseline is better than the model.\")\n",
    "\n",
    "    print(\"Baseline SSE\", baseline_sse)\n",
    "    print(\"Model SSE\", model_sse)\n",
    "    \n",
    "    mse = mean_squared_error(df.target, df.yhat)\n",
    "    rmse = sqrt(mse)\n",
    "\n",
    "    print(\"MSE is\", mse, \" which is the average squared error\")\n",
    "    print(\"RMSE is\", rmse, \" which is the square root of the MSE\")\n",
    "    \n",
    "    r2 = model_object.rsquared\n",
    "    print('R-squared = ', round(r2,3))\n",
    "\n",
    "    f_pval = model_object.f_pvalue\n",
    "    print(\"p-value for model significance = \", f_pval)\n",
    "    \n",
    "    alpha = .05\n",
    "    print(f'f_pval is less than {alpha} = {f_pval<alpha}')\n",
    "    \n",
    "# make a plot to visualize residuals\n",
    "def plot_residuals(actual, predicted):\n",
    "    residuals = actual - predicted\n",
    "    plt.hlines(0, actual.min(), actual.max(), ls=':')\n",
    "    plt.scatter(actual, residuals)\n",
    "    plt.ylabel('residual ($y - \\hat{y}$)')\n",
    "    plt.xlabel('actual value ($y$)')\n",
    "    plt.title('Actual vs Residual')\n",
    "    return plt.gca()"
   ]
  },
  {
   "cell_type": "code",
   "execution_count": 10,
   "metadata": {},
   "outputs": [],
   "source": [
    "import warnings\n",
    "warnings.filterwarnings(\"ignore\")\n",
    "\n",
    "import pandas as pd\n",
    "import matplotlib.pyplot as plt\n",
    "import seaborn as sns\n",
    "import numpy as np\n",
    "from pydataset import data\n",
    "import evaluate\n"
   ]
  },
  {
   "cell_type": "code",
   "execution_count": 11,
   "metadata": {},
   "outputs": [],
   "source": [
    "# 10. Load the mpg dataset and fit a model that predicts highway mileage based on engine displacement.\n",
    "# Take a look at all the regression evaluation metrics, and determine whether this model is better \n",
    "# than the baseline model. Use the functions from your evaluate.py to help accomplish this."
   ]
  },
  {
   "cell_type": "code",
   "execution_count": 12,
   "metadata": {},
   "outputs": [
    {
     "data": {
      "text/html": [
       "<div>\n",
       "<style scoped>\n",
       "    .dataframe tbody tr th:only-of-type {\n",
       "        vertical-align: middle;\n",
       "    }\n",
       "\n",
       "    .dataframe tbody tr th {\n",
       "        vertical-align: top;\n",
       "    }\n",
       "\n",
       "    .dataframe thead th {\n",
       "        text-align: right;\n",
       "    }\n",
       "</style>\n",
       "<table border=\"1\" class=\"dataframe\">\n",
       "  <thead>\n",
       "    <tr style=\"text-align: right;\">\n",
       "      <th></th>\n",
       "      <th>manufacturer</th>\n",
       "      <th>model</th>\n",
       "      <th>displ</th>\n",
       "      <th>year</th>\n",
       "      <th>cyl</th>\n",
       "      <th>trans</th>\n",
       "      <th>drv</th>\n",
       "      <th>cty</th>\n",
       "      <th>hwy</th>\n",
       "      <th>fl</th>\n",
       "      <th>class</th>\n",
       "    </tr>\n",
       "  </thead>\n",
       "  <tbody>\n",
       "    <tr>\n",
       "      <th>1</th>\n",
       "      <td>audi</td>\n",
       "      <td>a4</td>\n",
       "      <td>1.8</td>\n",
       "      <td>1999</td>\n",
       "      <td>4</td>\n",
       "      <td>auto(l5)</td>\n",
       "      <td>f</td>\n",
       "      <td>18</td>\n",
       "      <td>29</td>\n",
       "      <td>p</td>\n",
       "      <td>compact</td>\n",
       "    </tr>\n",
       "    <tr>\n",
       "      <th>2</th>\n",
       "      <td>audi</td>\n",
       "      <td>a4</td>\n",
       "      <td>1.8</td>\n",
       "      <td>1999</td>\n",
       "      <td>4</td>\n",
       "      <td>manual(m5)</td>\n",
       "      <td>f</td>\n",
       "      <td>21</td>\n",
       "      <td>29</td>\n",
       "      <td>p</td>\n",
       "      <td>compact</td>\n",
       "    </tr>\n",
       "    <tr>\n",
       "      <th>3</th>\n",
       "      <td>audi</td>\n",
       "      <td>a4</td>\n",
       "      <td>2.0</td>\n",
       "      <td>2008</td>\n",
       "      <td>4</td>\n",
       "      <td>manual(m6)</td>\n",
       "      <td>f</td>\n",
       "      <td>20</td>\n",
       "      <td>31</td>\n",
       "      <td>p</td>\n",
       "      <td>compact</td>\n",
       "    </tr>\n",
       "    <tr>\n",
       "      <th>4</th>\n",
       "      <td>audi</td>\n",
       "      <td>a4</td>\n",
       "      <td>2.0</td>\n",
       "      <td>2008</td>\n",
       "      <td>4</td>\n",
       "      <td>auto(av)</td>\n",
       "      <td>f</td>\n",
       "      <td>21</td>\n",
       "      <td>30</td>\n",
       "      <td>p</td>\n",
       "      <td>compact</td>\n",
       "    </tr>\n",
       "    <tr>\n",
       "      <th>5</th>\n",
       "      <td>audi</td>\n",
       "      <td>a4</td>\n",
       "      <td>2.8</td>\n",
       "      <td>1999</td>\n",
       "      <td>6</td>\n",
       "      <td>auto(l5)</td>\n",
       "      <td>f</td>\n",
       "      <td>16</td>\n",
       "      <td>26</td>\n",
       "      <td>p</td>\n",
       "      <td>compact</td>\n",
       "    </tr>\n",
       "  </tbody>\n",
       "</table>\n",
       "</div>"
      ],
      "text/plain": [
       "  manufacturer model  displ  year  cyl       trans drv  cty  hwy fl    class\n",
       "1         audi    a4    1.8  1999    4    auto(l5)   f   18   29  p  compact\n",
       "2         audi    a4    1.8  1999    4  manual(m5)   f   21   29  p  compact\n",
       "3         audi    a4    2.0  2008    4  manual(m6)   f   20   31  p  compact\n",
       "4         audi    a4    2.0  2008    4    auto(av)   f   21   30  p  compact\n",
       "5         audi    a4    2.8  1999    6    auto(l5)   f   16   26  p  compact"
      ]
     },
     "execution_count": 12,
     "metadata": {},
     "output_type": "execute_result"
    }
   ],
   "source": [
    "mpgdf = data('mpg')\n",
    "mpgdf.head()"
   ]
  },
  {
   "cell_type": "code",
   "execution_count": 13,
   "metadata": {},
   "outputs": [
    {
     "name": "stdout",
     "output_type": "stream",
     "text": [
      "<class 'pandas.core.frame.DataFrame'>\n",
      "Int64Index: 234 entries, 1 to 234\n",
      "Data columns (total 11 columns):\n",
      " #   Column        Non-Null Count  Dtype  \n",
      "---  ------        --------------  -----  \n",
      " 0   manufacturer  234 non-null    object \n",
      " 1   model         234 non-null    object \n",
      " 2   displ         234 non-null    float64\n",
      " 3   year          234 non-null    int64  \n",
      " 4   cyl           234 non-null    int64  \n",
      " 5   trans         234 non-null    object \n",
      " 6   drv           234 non-null    object \n",
      " 7   cty           234 non-null    int64  \n",
      " 8   hwy           234 non-null    int64  \n",
      " 9   fl            234 non-null    object \n",
      " 10  class         234 non-null    object \n",
      "dtypes: float64(1), int64(4), object(6)\n",
      "memory usage: 21.9+ KB\n"
     ]
    }
   ],
   "source": [
    "mpgdf.info()"
   ]
  },
  {
   "cell_type": "code",
   "execution_count": 14,
   "metadata": {},
   "outputs": [
    {
     "data": {
      "text/plain": [
       "<matplotlib.axes._subplots.AxesSubplot at 0x7fc6785b89d0>"
      ]
     },
     "execution_count": 14,
     "metadata": {},
     "output_type": "execute_result"
    },
    {
     "data": {
      "image/png": "[encoded data removed]",
      "text/plain": [
       "<Figure size 432x288 with 1 Axes>"
      ]
     },
     "metadata": {
      "needs_background": "light"
     },
     "output_type": "display_data"
    }
   ],
   "source": [
    "mpgdf.hwy.hist()"
   ]
  },
  {
   "cell_type": "code",
   "execution_count": 3,
   "metadata": {},
   "outputs": [],
   "source": [
    "# target = highway mileage, feature = engine displacement\n",
    "# create model object\n",
    "target = 'hwy'\n",
    "feature = 'displ'\n",
    "mod_obj = evaluate.make_model_object(target, feature, mpgdf)"
   ]
  },
  {
   "cell_type": "code",
   "execution_count": 4,
   "metadata": {},
   "outputs": [
    {
     "data": {
      "text/html": [
       "<div>\n",
       "<style scoped>\n",
       "    .dataframe tbody tr th:only-of-type {\n",
       "        vertical-align: middle;\n",
       "    }\n",
       "\n",
       "    .dataframe tbody tr th {\n",
       "        vertical-align: top;\n",
       "    }\n",
       "\n",
       "    .dataframe thead th {\n",
       "        text-align: right;\n",
       "    }\n",
       "</style>\n",
       "<table border=\"1\" class=\"dataframe\">\n",
       "  <thead>\n",
       "    <tr style=\"text-align: right;\">\n",
       "      <th></th>\n",
       "      <th>feature</th>\n",
       "      <th>target</th>\n",
       "      <th>baseline</th>\n",
       "      <th>baseline_residual</th>\n",
       "      <th>yhat</th>\n",
       "      <th>model_residual</th>\n",
       "    </tr>\n",
       "  </thead>\n",
       "  <tbody>\n",
       "    <tr>\n",
       "      <th>1</th>\n",
       "      <td>1.8</td>\n",
       "      <td>29</td>\n",
       "      <td>23.440171</td>\n",
       "      <td>-5.559829</td>\n",
       "      <td>29.342591</td>\n",
       "      <td>0.342591</td>\n",
       "    </tr>\n",
       "    <tr>\n",
       "      <th>2</th>\n",
       "      <td>1.8</td>\n",
       "      <td>29</td>\n",
       "      <td>23.440171</td>\n",
       "      <td>-5.559829</td>\n",
       "      <td>29.342591</td>\n",
       "      <td>0.342591</td>\n",
       "    </tr>\n",
       "    <tr>\n",
       "      <th>3</th>\n",
       "      <td>2.0</td>\n",
       "      <td>31</td>\n",
       "      <td>23.440171</td>\n",
       "      <td>-7.559829</td>\n",
       "      <td>28.636473</td>\n",
       "      <td>-2.363527</td>\n",
       "    </tr>\n",
       "    <tr>\n",
       "      <th>4</th>\n",
       "      <td>2.0</td>\n",
       "      <td>30</td>\n",
       "      <td>23.440171</td>\n",
       "      <td>-6.559829</td>\n",
       "      <td>28.636473</td>\n",
       "      <td>-1.363527</td>\n",
       "    </tr>\n",
       "    <tr>\n",
       "      <th>5</th>\n",
       "      <td>2.8</td>\n",
       "      <td>26</td>\n",
       "      <td>23.440171</td>\n",
       "      <td>-2.559829</td>\n",
       "      <td>25.812002</td>\n",
       "      <td>-0.187998</td>\n",
       "    </tr>\n",
       "  </tbody>\n",
       "</table>\n",
       "</div>"
      ],
      "text/plain": [
       "   feature  target   baseline  baseline_residual       yhat  model_residual\n",
       "1      1.8      29  23.440171          -5.559829  29.342591        0.342591\n",
       "2      1.8      29  23.440171          -5.559829  29.342591        0.342591\n",
       "3      2.0      31  23.440171          -7.559829  28.636473       -2.363527\n",
       "4      2.0      30  23.440171          -6.559829  28.636473       -1.363527\n",
       "5      2.8      26  23.440171          -2.559829  25.812002       -0.187998"
      ]
     },
     "execution_count": 4,
     "metadata": {},
     "output_type": "execute_result"
    }
   ],
   "source": [
    "evalmpg = evaluate.make_evaldf(feature, target, mod_obj, mpgdf)\n",
    "evalmpg.head()"
   ]
  },
  {
   "cell_type": "code",
   "execution_count": 5,
   "metadata": {},
   "outputs": [
    {
     "name": "stdout",
     "output_type": "stream",
     "text": [
      "Our model beats the baseline\n",
      "It makes sense to evaluate this model more deeply.\n",
      "Baseline SSE 8261.66239316239\n",
      "Model SSE 3413.829008995466\n",
      "MSE is 14.589012858954984  which is the average squared error\n",
      "RMSE is 3.819556631201452  which is the square root of the MSE\n",
      "R-squared =  0.587\n",
      "p-value for model significance =  2.0389744555910457e-46\n",
      "f_pval is less than 0.05 = True\n"
     ]
    }
   ],
   "source": [
    "metricsmpg = evaluate.metrics(evalmpg, mod_obj)"
   ]
  },
  {
   "cell_type": "code",
   "execution_count": 6,
   "metadata": {},
   "outputs": [
    {
     "data": {
      "text/plain": [
       "<matplotlib.axes._subplots.AxesSubplot at 0x7fc677c44550>"
      ]
     },
     "execution_count": 6,
     "metadata": {},
     "output_type": "execute_result"
    },
    {
     "data": {
      "image/png": "[encoded data removed]",
      "text/plain": [
       "<Figure size 432x288 with 1 Axes>"
      ]
     },
     "metadata": {
      "needs_background": "light"
     },
     "output_type": "display_data"
    }
   ],
   "source": [
    "# note y=target, yhat = predictions\n",
    "evaluate.plot_residuals(evalmpg.target, evalmpg.yhat)"
   ]
  },
  {
   "cell_type": "code",
   "execution_count": 7,
   "metadata": {},
   "outputs": [],
   "source": [
    "# From fp-value < .05 conclude the feature is significant and the model beats the baseline"
   ]
  },
  {
   "cell_type": "code",
   "execution_count": null,
   "metadata": {},
   "outputs": [],
   "source": []
  }
 ],
 "metadata": {
  "kernelspec": {
   "display_name": "Python 3",
   "language": "python",
   "name": "python3"
  },
  "language_info": {
   "codemirror_mode": {
    "name": "ipython",
    "version": 3
   },
   "file_extension": ".py",
   "mimetype": "text/x-python",
   "name": "python",
   "nbconvert_exporter": "python",
   "pygments_lexer": "ipython3",
   "version": "3.7.6"
  }
 },
 "nbformat": 4,
 "nbformat_minor": 4
}
