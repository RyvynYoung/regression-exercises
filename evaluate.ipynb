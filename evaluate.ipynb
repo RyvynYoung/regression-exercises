{
 "cells": [
  {
   "cell_type": "markdown",
   "metadata": {},
   "source": [
    "# Curiculum Exercises - per Ryan complete his exercises in next cell\n",
    "\n",
    "Do you work for this exercise in either a jupyter notebook named evaluate within your regression-exercises repository. By the end of this exercise you will also create a python script named evaluate, so the overall deliverables for this exercise are the python script and jupyter notebook both with the name evaluate within your regression-exercises repo.\n",
    "\n",
    "1. Load the tips dataset from either pydataset or seaborn.\n",
    "\n",
    "2. Fit a linear regression model (ordinary least squares) and compute yhat, predictions of tip using total_bill.\n",
    "\n",
    "Here is some sample code to get you started:\n",
    "\n",
    "from statsmodels.formula.api import ols\n",
    "\n",
    "model = ols('y ~ x', data=df).fit()\n",
    "predictions = model.predict(df.x)\n",
    "The code above fits a linear regression model on the df dataset, using column y as the target and column x as the predictor. Modify the code as necessary to work with the tips dataset.\n",
    "\n",
    "3. Plot the residuals for the linear regression model that you made.\n",
    "\n",
    "4. Calculate the sum of squared errors, explained sum of squares, total sum of squares, mean squared error, and root mean squared error for your model.\n",
    "\n",
    "5. Calculate the sum of squared errors, mean squared error, and root mean squared error for the baseline model (i.e. a model that always predicts the average tip amount).\n",
    "\n",
    "6. Write python code that compares the sum of squared errors for your model against the sum of squared errors for the baseline model and outputs whether or not your model performs better than the baseline model.\n",
    "\n",
    "7. What is the amount of variance explained in your model?\n",
    "\n",
    "8. Is your model significantly better than the baseline model?\n",
    "\n",
    "9. Create a file named evaluate.py that contains the following functions.\n",
    "\n",
    "plot_residuals(y, yhat): creates a residual plot\n",
    "regression_errors(y, yhat): returns the following values:\n",
    "sum of squared errors (SSE)\n",
    "explained sum of squares (ESS)\n",
    "total sum of squares (TSS)\n",
    "mean squared error (MSE)\n",
    "root mean squared error (RMSE)\n",
    "baseline_mean_errors(y): computes the SSE, MSE, and RMSE for the baseline model\n",
    "better_than_baseline(y, yhat): returns true if your model performs better than the baseline, otherwise false\n",
    "model_significance(ols_model): that takes the ols model as input and returns the amount of variance explained in your model, and the value telling you whether your model is significantly better than the baseline model (Hint: use the rsquared and f_pvalue properties from the ols model)\n",
    "\n",
    "10. Load the mpg dataset and fit a model that predicts highway mileage based on engine displacement. Take a look at all the regression evaluation metrics, and determine whether this model is better than the baseline model. Use the functions from your evaluate.py to help accomplish this."
   ]
  },
  {
   "cell_type": "code",
   "execution_count": null,
   "metadata": {},
   "outputs": [],
   "source": []
  },
  {
   "cell_type": "markdown",
   "metadata": {},
   "source": [
    "# Exercises from Ryan\n",
    "\n",
    "Create a new notebook or Python script named evaluate.\n",
    "Evaluating simple linear regressions on lemonade data with other features:\n",
    "1. Create a dataframe from the csv at https://gist.githubusercontent.com/ryanorsinger/c303a90050d3192773288f7eea97b708/raw/536533b90bb2bf41cea27a2c96a63347cde082a6/lemonade.csv\n",
    "2. Make a baseline for predicting sales. (The mean is a good baseline)\n",
    "3. Create a new dataframe to hold residuals.\n",
    "4. Calculate the baseline residuals.\n",
    "5. Use ols from statsmodels to create a simple linear regression (1 independent variable, 1 dependent variable) to predict sales using flyers.\n",
    "\n",
    "`the df variable is lemonade data\n",
    "\n",
    "model = ols('sales ~ flyers', data=df).fit()   \n",
    "predictions = model.predict(df.x)`\n",
    "\n",
    "1. Use the .predict method from ols to produce all of our predictions. Add these predictions to the data\n",
    "2. Calculate that model's residuals.\n",
    "3. Evaluate that model's performance and answer if the model is significant.\n",
    "4. Evaluate that model's performance and answer if the feature is significant.\n",
    "\n",
    "#### Repetition Improves Performance!\n",
    "- In the next section of your notebook, perform the steps above with the rainfall column as the model's feature. Does this model beat the baseline? Would you prefer the rainfall model over the flyers model?\n",
    "- In the next section of your notebook, perform the steps above with the log_rainfall column as the model's feature. Does this model beat the baseline? Would you prefer the log_rainfall model over the flyers model? Would you prefer the model built with log_rainfall over the rainfall model from before?\n",
    "- In the next section of your notebook, perform the steps above with the temperature column as the model's only feature. Does this model beat the baseline? Would you prefer the rainfall, log_rainfall, or the flyers model?\n",
    "- Which of these 4 single regression models would you want to move forward with?\n",
    "\n",
    "\n",
    "#### Tips dataset\n",
    "1. Load the tips dataset from pydataset or seaborn\n",
    "2. Define your baseline for \"tip\". Our goal will be to see if we can make a model that is better than baseline for predicting tips on total_bill.\n",
    "3. Fit a linear regression model (ordinary least squares) and compute yhat, predictions of tip using total_bill. Here is some sample code to get you started:\n",
    "`from statsmodels.formula.api import ols\n",
    "from pydataset import data\n",
    "\n",
    "df = data(\"tips\")\n",
    "\n",
    "model = ols('tip ~ total_bill', data=df).fit()\n",
    "\n",
    "predictions = model.predict(df.x)`\n",
    "\n",
    "1. Calculate the sum of squared errors, explained sum of squares, total sum of squares, mean squared error, and root mean squared error for your model.\n",
    "2. Calculate the sum of squared errors, mean squared error, and root mean squared error for the baseline model (i.e. a model that always predicts the average tip amount).\n",
    "3. Write python code that compares the sum of squared errors for your model against the sum of squared errors for the baseline model and outputs whether or not your model performs better than the baseline model.\n",
    "4. What is the amount of variance explained in your model?\n",
    "5. Is your model significantly better than the baseline model?\n",
    "6. Plot the residuals for the linear regression model that you made."
   ]
  },
  {
   "cell_type": "code",
   "execution_count": 26,
   "metadata": {},
   "outputs": [],
   "source": [
    "import warnings\n",
    "warnings.filterwarnings(\"ignore\")\n",
    "\n",
    "import pandas as pd\n",
    "import matplotlib.pyplot as plt\n",
    "import seaborn as sns\n",
    "import numpy as np\n",
    "from pydataset import data\n",
    "\n",
    "# Linear Model\n",
    "from statsmodels.formula.api import ols\n",
    "\n",
    "from sklearn.metrics import mean_squared_error\n",
    "from math import sqrt"
   ]
  },
  {
   "cell_type": "code",
   "execution_count": 5,
   "metadata": {},
   "outputs": [],
   "source": [
    "#1. create dataframe\n",
    "df = pd.read_clipboard(sep=',', index_col=0)"
   ]
  },
  {
   "cell_type": "code",
   "execution_count": 6,
   "metadata": {
    "scrolled": true
   },
   "outputs": [
    {
     "data": {
      "text/html": [
       "<div>\n",
       "<style scoped>\n",
       "    .dataframe tbody tr th:only-of-type {\n",
       "        vertical-align: middle;\n",
       "    }\n",
       "\n",
       "    .dataframe tbody tr th {\n",
       "        vertical-align: top;\n",
       "    }\n",
       "\n",
       "    .dataframe thead th {\n",
       "        text-align: right;\n",
       "    }\n",
       "</style>\n",
       "<table border=\"1\" class=\"dataframe\">\n",
       "  <thead>\n",
       "    <tr style=\"text-align: right;\">\n",
       "      <th></th>\n",
       "      <th>Day</th>\n",
       "      <th>Temperature</th>\n",
       "      <th>Rainfall</th>\n",
       "      <th>Flyers</th>\n",
       "      <th>Price</th>\n",
       "      <th>Sales</th>\n",
       "    </tr>\n",
       "    <tr>\n",
       "      <th>Date</th>\n",
       "      <th></th>\n",
       "      <th></th>\n",
       "      <th></th>\n",
       "      <th></th>\n",
       "      <th></th>\n",
       "      <th></th>\n",
       "    </tr>\n",
       "  </thead>\n",
       "  <tbody>\n",
       "    <tr>\n",
       "      <th>1/1/17</th>\n",
       "      <td>Sunday</td>\n",
       "      <td>27.0</td>\n",
       "      <td>2.00</td>\n",
       "      <td>15</td>\n",
       "      <td>0.5</td>\n",
       "      <td>10</td>\n",
       "    </tr>\n",
       "    <tr>\n",
       "      <th>1/2/17</th>\n",
       "      <td>Monday</td>\n",
       "      <td>28.9</td>\n",
       "      <td>1.33</td>\n",
       "      <td>15</td>\n",
       "      <td>0.5</td>\n",
       "      <td>13</td>\n",
       "    </tr>\n",
       "    <tr>\n",
       "      <th>1/3/17</th>\n",
       "      <td>Tuesday</td>\n",
       "      <td>34.5</td>\n",
       "      <td>1.33</td>\n",
       "      <td>27</td>\n",
       "      <td>0.5</td>\n",
       "      <td>15</td>\n",
       "    </tr>\n",
       "    <tr>\n",
       "      <th>1/4/17</th>\n",
       "      <td>Wednesday</td>\n",
       "      <td>44.1</td>\n",
       "      <td>1.05</td>\n",
       "      <td>28</td>\n",
       "      <td>0.5</td>\n",
       "      <td>17</td>\n",
       "    </tr>\n",
       "    <tr>\n",
       "      <th>1/5/17</th>\n",
       "      <td>Thursday</td>\n",
       "      <td>42.4</td>\n",
       "      <td>1.00</td>\n",
       "      <td>33</td>\n",
       "      <td>0.5</td>\n",
       "      <td>18</td>\n",
       "    </tr>\n",
       "  </tbody>\n",
       "</table>\n",
       "</div>"
      ],
      "text/plain": [
       "              Day  Temperature  Rainfall  Flyers  Price  Sales\n",
       "Date                                                          \n",
       "1/1/17     Sunday         27.0      2.00      15    0.5     10\n",
       "1/2/17     Monday         28.9      1.33      15    0.5     13\n",
       "1/3/17    Tuesday         34.5      1.33      27    0.5     15\n",
       "1/4/17  Wednesday         44.1      1.05      28    0.5     17\n",
       "1/5/17   Thursday         42.4      1.00      33    0.5     18"
      ]
     },
     "execution_count": 6,
     "metadata": {},
     "output_type": "execute_result"
    }
   ],
   "source": [
    "df.head()"
   ]
  },
  {
   "cell_type": "code",
   "execution_count": 9,
   "metadata": {},
   "outputs": [
    {
     "data": {
      "text/plain": [
       "25.323287671232876"
      ]
     },
     "execution_count": 9,
     "metadata": {},
     "output_type": "execute_result"
    }
   ],
   "source": [
    "# 2. Make a baseline\n",
    "baseline = df.Sales.mean()\n",
    "baseline"
   ]
  },
  {
   "cell_type": "code",
   "execution_count": 10,
   "metadata": {},
   "outputs": [
    {
     "data": {
      "text/html": [
       "<div>\n",
       "<style scoped>\n",
       "    .dataframe tbody tr th:only-of-type {\n",
       "        vertical-align: middle;\n",
       "    }\n",
       "\n",
       "    .dataframe tbody tr th {\n",
       "        vertical-align: top;\n",
       "    }\n",
       "\n",
       "    .dataframe thead th {\n",
       "        text-align: right;\n",
       "    }\n",
       "</style>\n",
       "<table border=\"1\" class=\"dataframe\">\n",
       "  <thead>\n",
       "    <tr style=\"text-align: right;\">\n",
       "      <th></th>\n",
       "      <th>x_flyers</th>\n",
       "      <th>y_sales</th>\n",
       "      <th>baseline</th>\n",
       "      <th>baseline_residual</th>\n",
       "    </tr>\n",
       "    <tr>\n",
       "      <th>Date</th>\n",
       "      <th></th>\n",
       "      <th></th>\n",
       "      <th></th>\n",
       "      <th></th>\n",
       "    </tr>\n",
       "  </thead>\n",
       "  <tbody>\n",
       "    <tr>\n",
       "      <th>1/1/17</th>\n",
       "      <td>15</td>\n",
       "      <td>10</td>\n",
       "      <td>25.323288</td>\n",
       "      <td>15.323288</td>\n",
       "    </tr>\n",
       "    <tr>\n",
       "      <th>1/2/17</th>\n",
       "      <td>15</td>\n",
       "      <td>13</td>\n",
       "      <td>25.323288</td>\n",
       "      <td>12.323288</td>\n",
       "    </tr>\n",
       "    <tr>\n",
       "      <th>1/3/17</th>\n",
       "      <td>27</td>\n",
       "      <td>15</td>\n",
       "      <td>25.323288</td>\n",
       "      <td>10.323288</td>\n",
       "    </tr>\n",
       "    <tr>\n",
       "      <th>1/4/17</th>\n",
       "      <td>28</td>\n",
       "      <td>17</td>\n",
       "      <td>25.323288</td>\n",
       "      <td>8.323288</td>\n",
       "    </tr>\n",
       "    <tr>\n",
       "      <th>1/5/17</th>\n",
       "      <td>33</td>\n",
       "      <td>18</td>\n",
       "      <td>25.323288</td>\n",
       "      <td>7.323288</td>\n",
       "    </tr>\n",
       "  </tbody>\n",
       "</table>\n",
       "</div>"
      ],
      "text/plain": [
       "        x_flyers  y_sales   baseline  baseline_residual\n",
       "Date                                                   \n",
       "1/1/17        15       10  25.323288          15.323288\n",
       "1/2/17        15       13  25.323288          12.323288\n",
       "1/3/17        27       15  25.323288          10.323288\n",
       "1/4/17        28       17  25.323288           8.323288\n",
       "1/5/17        33       18  25.323288           7.323288"
      ]
     },
     "execution_count": 10,
     "metadata": {},
     "output_type": "execute_result"
    }
   ],
   "source": [
    "# 3. create dataframe to hold baseline residuals\n",
    "# 4. calculate baseline residuals\n",
    "# evaluate = pd.DataFrame()\n",
    "\n",
    "# evaluate[\"x\"] = df.flyers\n",
    "\n",
    "# # Our y is our dependent variable\n",
    "# evaluate[\"y\"] = df.sales\n",
    "# evaluate[\"baseline\"] = df.sales.mean()\n",
    "\n",
    "# # y-hat is shorthand for \"predicted y\" values\n",
    "# evaluate[\"yhat\"] = model.predict()\n",
    "\n",
    "# # Calculate the baseline residuals \n",
    "# # Residual is predicted minus actual\n",
    "# evaluate[\"baseline_residual\"] = evaluate.baseline - evaluate.y\n",
    "\n",
    "# # Calculate the model residuals\n",
    "# evaluate[\"model_residual\"] = evaluate.yhat - evaluate.y\n",
    "\n",
    "# evaluate.head(4)\n",
    "\n",
    "eval1 = pd.DataFrame()\n",
    "eval1['x_flyers'] = df.Flyers\n",
    "eval1['y_sales'] = df.Sales\n",
    "eval1['baseline'] = df.Sales.mean()\n",
    "eval1['baseline_residual'] = eval1.baseline - eval1.y_sales\n",
    "\n",
    "eval1.head()"
   ]
  },
  {
   "cell_type": "code",
   "execution_count": 15,
   "metadata": {},
   "outputs": [],
   "source": [
    "# 5. \n",
    "# Pre-requisite Part 2 - build/identify a super simple linear model\n",
    "# We'll use statsmodels OLS (ordinary least squares method here)\n",
    "\n",
    "# The arguments to the ols function are the column names as strings, separated by ~\n",
    "# ols(\"y ~ x\") \n",
    "# ols(\"target ~ feature\")\n",
    "\n",
    "model1 = ols('Sales ~ Flyers', df).fit()\n"
   ]
  },
  {
   "cell_type": "code",
   "execution_count": 18,
   "metadata": {},
   "outputs": [],
   "source": [
    "# 5.1 Use the .predict method from ols to produce all of our predictions.\n",
    "# Add these predictions to the data\n",
    "\n",
    "eval1[\"yhat1\"] = model1.predict()"
   ]
  },
  {
   "cell_type": "code",
   "execution_count": 20,
   "metadata": {},
   "outputs": [],
   "source": [
    "# 5.2 Calculate that model's residuals.\n",
    "\n",
    "eval1[\"model1_residual\"] = eval1.yhat1 - eval1.y_sales"
   ]
  },
  {
   "cell_type": "code",
   "execution_count": 21,
   "metadata": {},
   "outputs": [
    {
     "name": "stdout",
     "output_type": "stream",
     "text": [
      "Our model beats the baseline\n",
      "It makes sense to evaluate this model more deeply.\n",
      "Baseline SSE 17297.85205479452\n",
      "Model SSE 6083.326244705024\n"
     ]
    }
   ],
   "source": [
    "# 5.3 Evaluate that model's performance and answer if the model is significant.\n",
    "# Calculate if the model beats the baseline\n",
    "# Square errors for 2 reasons\n",
    "# 1. Squaring large numbers increases their magnitude (opposite for small)\n",
    "# 2. Squaring removes negative residuals\n",
    "baseline_sse = (eval1.baseline_residual**2).sum()\n",
    "model1_sse = (eval1.model1_residual**2).sum()\n",
    "\n",
    "if model1_sse < baseline_sse:\n",
    "    print(\"Our model beats the baseline\")\n",
    "    print(\"It makes sense to evaluate this model more deeply.\")\n",
    "else:\n",
    "    print(\"Our baseline is better than the model.\")\n",
    "\n",
    "print(\"Baseline SSE\", baseline_sse)\n",
    "print(\"Model SSE\", model1_sse)"
   ]
  },
  {
   "cell_type": "code",
   "execution_count": 28,
   "metadata": {},
   "outputs": [
    {
     "name": "stdout",
     "output_type": "stream",
     "text": [
      "Model 1 evaluates flyers and sales\n",
      "SSE is 6083.326244705024  which is the sum sf squared errors\n",
      "MSE is 16.666647245767187  which is the average squared error\n",
      "RMSE is 4.082480526073233  which is the square root of the MSE\n"
     ]
    }
   ],
   "source": [
    "# Take the average of the Sum of squared errors\n",
    "# mse = model_sse / len(evaluate)\n",
    "\n",
    "# Or we could calculate this using sklearn's mean_squared_error function\n",
    "mse1 = mean_squared_error(eval1.y_sales, eval1.yhat)\n",
    "\n",
    "# Now we'll take the Square Root of the Sum of Errors\n",
    "# Taking the square root is nice because the units of the error \n",
    "# will be in the same units as the target variable.\n",
    "rmse1 = sqrt(mse1)\n",
    "\n",
    "print(\"Model 1 evaluates flyers and sales\")\n",
    "print(\"SSE is\", model1_sse, \" which is the sum sf squared errors\")\n",
    "print(\"MSE is\", mse1, \" which is the average squared error\")\n",
    "print(\"RMSE is\", rmse1, \" which is the square root of the MSE\")"
   ]
  },
  {
   "cell_type": "code",
   "execution_count": 29,
   "metadata": {},
   "outputs": [
    {
     "name": "stdout",
     "output_type": "stream",
     "text": [
      "R-squared =  0.648\n",
      "p-value for model significance =  2.193718738113383e-84\n"
     ]
    }
   ],
   "source": [
    "r2m1 = model1.rsquared\n",
    "print('R-squared = ', round(r2m1,3))\n",
    "\n",
    "f_pval1 = model1.f_pvalue\n",
    "print(\"p-value for model significance = \", f_pval1)"
   ]
  },
  {
   "cell_type": "code",
   "execution_count": 30,
   "metadata": {},
   "outputs": [
    {
     "data": {
      "text/plain": [
       "True"
      ]
     },
     "execution_count": 30,
     "metadata": {},
     "output_type": "execute_result"
    }
   ],
   "source": [
    "f_pval1 < .05"
   ]
  },
  {
   "cell_type": "code",
   "execution_count": 22,
   "metadata": {},
   "outputs": [],
   "source": [
    "# 5.4 Evaluate that model's performance and answer if the feature is significant.\n",
    "# the model only has 1 feature so if the model is significant (and it is) then the feature is significant\n"
   ]
  },
  {
   "cell_type": "markdown",
   "metadata": {},
   "source": [
    "#### In the next section of your notebook, perform the steps above with the rainfall column as the model's feature. \n",
    "\n",
    "#### Does this model beat the baseline? \n",
    "\n",
    "#### Would you prefer the rainfall model over the flyers model?\n"
   ]
  },
  {
   "cell_type": "code",
   "execution_count": 23,
   "metadata": {},
   "outputs": [
    {
     "data": {
      "text/html": [
       "<div>\n",
       "<style scoped>\n",
       "    .dataframe tbody tr th:only-of-type {\n",
       "        vertical-align: middle;\n",
       "    }\n",
       "\n",
       "    .dataframe tbody tr th {\n",
       "        vertical-align: top;\n",
       "    }\n",
       "\n",
       "    .dataframe thead th {\n",
       "        text-align: right;\n",
       "    }\n",
       "</style>\n",
       "<table border=\"1\" class=\"dataframe\">\n",
       "  <thead>\n",
       "    <tr style=\"text-align: right;\">\n",
       "      <th></th>\n",
       "      <th>x_flyers</th>\n",
       "      <th>y_sales</th>\n",
       "      <th>baseline</th>\n",
       "      <th>baseline_residual</th>\n",
       "      <th>yhat2</th>\n",
       "      <th>model2_residual</th>\n",
       "    </tr>\n",
       "    <tr>\n",
       "      <th>Date</th>\n",
       "      <th></th>\n",
       "      <th></th>\n",
       "      <th></th>\n",
       "      <th></th>\n",
       "      <th></th>\n",
       "      <th></th>\n",
       "    </tr>\n",
       "  </thead>\n",
       "  <tbody>\n",
       "    <tr>\n",
       "      <th>1/1/17</th>\n",
       "      <td>15</td>\n",
       "      <td>10</td>\n",
       "      <td>25.323288</td>\n",
       "      <td>15.323288</td>\n",
       "      <td>-1.599602</td>\n",
       "      <td>-11.599602</td>\n",
       "    </tr>\n",
       "    <tr>\n",
       "      <th>1/2/17</th>\n",
       "      <td>15</td>\n",
       "      <td>13</td>\n",
       "      <td>25.323288</td>\n",
       "      <td>12.323288</td>\n",
       "      <td>13.773142</td>\n",
       "      <td>0.773142</td>\n",
       "    </tr>\n",
       "    <tr>\n",
       "      <th>1/3/17</th>\n",
       "      <td>27</td>\n",
       "      <td>15</td>\n",
       "      <td>25.323288</td>\n",
       "      <td>10.323288</td>\n",
       "      <td>13.773142</td>\n",
       "      <td>-1.226858</td>\n",
       "    </tr>\n",
       "    <tr>\n",
       "      <th>1/4/17</th>\n",
       "      <td>28</td>\n",
       "      <td>17</td>\n",
       "      <td>25.323288</td>\n",
       "      <td>8.323288</td>\n",
       "      <td>20.197573</td>\n",
       "      <td>3.197573</td>\n",
       "    </tr>\n",
       "    <tr>\n",
       "      <th>1/5/17</th>\n",
       "      <td>33</td>\n",
       "      <td>18</td>\n",
       "      <td>25.323288</td>\n",
       "      <td>7.323288</td>\n",
       "      <td>21.344793</td>\n",
       "      <td>3.344793</td>\n",
       "    </tr>\n",
       "  </tbody>\n",
       "</table>\n",
       "</div>"
      ],
      "text/plain": [
       "        x_flyers  y_sales   baseline  baseline_residual      yhat2  \\\n",
       "Date                                                                 \n",
       "1/1/17        15       10  25.323288          15.323288  -1.599602   \n",
       "1/2/17        15       13  25.323288          12.323288  13.773142   \n",
       "1/3/17        27       15  25.323288          10.323288  13.773142   \n",
       "1/4/17        28       17  25.323288           8.323288  20.197573   \n",
       "1/5/17        33       18  25.323288           7.323288  21.344793   \n",
       "\n",
       "        model2_residual  \n",
       "Date                     \n",
       "1/1/17       -11.599602  \n",
       "1/2/17         0.773142  \n",
       "1/3/17        -1.226858  \n",
       "1/4/17         3.197573  \n",
       "1/5/17         3.344793  "
      ]
     },
     "execution_count": 23,
     "metadata": {},
     "output_type": "execute_result"
    }
   ],
   "source": [
    "eval2 = pd.DataFrame()\n",
    "eval2['x_flyers'] = df.Flyers\n",
    "eval2['y_sales'] = df.Sales\n",
    "eval2['baseline'] = df.Sales.mean()\n",
    "eval2['baseline_residual'] = eval2.baseline - eval2.y_sales\n",
    "model2 = ols('Sales ~ Rainfall', df).fit()\n",
    "eval2[\"yhat2\"] = model2.predict()\n",
    "eval2[\"model2_residual\"] = eval2.yhat2 - eval2.y_sales\n",
    "\n",
    "eval2.head()"
   ]
  },
  {
   "cell_type": "code",
   "execution_count": 41,
   "metadata": {},
   "outputs": [
    {
     "name": "stdout",
     "output_type": "stream",
     "text": [
      "Our model beats the baseline\n",
      "It makes sense to evaluate this model more deeply.\n",
      "Baseline SSE 17297.85205479452\n",
      "Model SSE 2998.2371310300655\n"
     ]
    }
   ],
   "source": [
    "baseline_sse = (eval2.baseline_residual**2).sum()\n",
    "model2_sse = (eval2.model2_residual**2).sum()\n",
    "\n",
    "if model2_sse < baseline_sse:\n",
    "    print(\"Our model beats the baseline\")\n",
    "    print(\"It makes sense to evaluate this model more deeply.\")\n",
    "else:\n",
    "    print(\"Our baseline is better than the model.\")\n",
    "\n",
    "print(\"Baseline SSE\", baseline_sse)\n",
    "print(\"Model SSE\", model2_sse)"
   ]
  },
  {
   "cell_type": "code",
   "execution_count": 42,
   "metadata": {},
   "outputs": [
    {
     "name": "stdout",
     "output_type": "stream",
     "text": [
      "Model 2 evaluates rainfall and sales\n",
      "SSE is 2998.2371310300655  which is the sum sf squared errors\n",
      "MSE is 8.21434830419196  which is the average squared error\n",
      "RMSE is 2.866068440249109  which is the square root of the MSE\n"
     ]
    }
   ],
   "source": [
    "mse2 = mean_squared_error(eval2.y_sales, eval2.yhat2)\n",
    "rmse2 = sqrt(mse2)\n",
    "\n",
    "print(\"Model 2 evaluates rainfall and sales\")\n",
    "print(\"SSE is\", model2_sse, \" which is the sum sf squared errors\")\n",
    "print(\"MSE is\", mse2, \" which is the average squared error\")\n",
    "print(\"RMSE is\", rmse2, \" which is the square root of the MSE\")"
   ]
  },
  {
   "cell_type": "code",
   "execution_count": 43,
   "metadata": {},
   "outputs": [
    {
     "name": "stdout",
     "output_type": "stream",
     "text": [
      "R-squared =  0.827\n",
      "p-value for model significance =  3.2988846597381e-140\n"
     ]
    }
   ],
   "source": [
    "r2m2 = model2.rsquared\n",
    "print('R-squared = ', round(r2m2,3))\n",
    "\n",
    "f_pval2 = model2.f_pvalue\n",
    "print(\"p-value for model significance = \", f_pval2)"
   ]
  },
  {
   "cell_type": "code",
   "execution_count": 34,
   "metadata": {},
   "outputs": [
    {
     "data": {
      "text/plain": [
       "True"
      ]
     },
     "execution_count": 34,
     "metadata": {},
     "output_type": "execute_result"
    }
   ],
   "source": [
    "f_pval2 < .05"
   ]
  },
  {
   "cell_type": "code",
   "execution_count": 36,
   "metadata": {},
   "outputs": [],
   "source": [
    "# the rainfall model performs better than the flyers model, the SSE is almost half that of the flyers model"
   ]
  },
  {
   "cell_type": "markdown",
   "metadata": {},
   "source": [
    "#### In the next section of your notebook, perform the steps above with the log_rainfall column as the model's feature. Does this model beat the baseline? \n",
    "\n",
    "#### Would you prefer the log_rainfall model over the flyers model? \n",
    "\n",
    "#### Would you prefer the model built with log_rainfall over the rainfall model from before?"
   ]
  },
  {
   "cell_type": "code",
   "execution_count": 38,
   "metadata": {},
   "outputs": [],
   "source": [
    "# add the log rainfall column to the df\n",
    "df[\"log_rainfall\"] = np.log(df.Rainfall)"
   ]
  },
  {
   "cell_type": "code",
   "execution_count": 39,
   "metadata": {},
   "outputs": [
    {
     "data": {
      "text/html": [
       "<div>\n",
       "<style scoped>\n",
       "    .dataframe tbody tr th:only-of-type {\n",
       "        vertical-align: middle;\n",
       "    }\n",
       "\n",
       "    .dataframe tbody tr th {\n",
       "        vertical-align: top;\n",
       "    }\n",
       "\n",
       "    .dataframe thead th {\n",
       "        text-align: right;\n",
       "    }\n",
       "</style>\n",
       "<table border=\"1\" class=\"dataframe\">\n",
       "  <thead>\n",
       "    <tr style=\"text-align: right;\">\n",
       "      <th></th>\n",
       "      <th>Day</th>\n",
       "      <th>Temperature</th>\n",
       "      <th>Rainfall</th>\n",
       "      <th>Flyers</th>\n",
       "      <th>Price</th>\n",
       "      <th>Sales</th>\n",
       "      <th>log_rainfall</th>\n",
       "    </tr>\n",
       "    <tr>\n",
       "      <th>Date</th>\n",
       "      <th></th>\n",
       "      <th></th>\n",
       "      <th></th>\n",
       "      <th></th>\n",
       "      <th></th>\n",
       "      <th></th>\n",
       "      <th></th>\n",
       "    </tr>\n",
       "  </thead>\n",
       "  <tbody>\n",
       "    <tr>\n",
       "      <th>1/1/17</th>\n",
       "      <td>Sunday</td>\n",
       "      <td>27.0</td>\n",
       "      <td>2.00</td>\n",
       "      <td>15</td>\n",
       "      <td>0.5</td>\n",
       "      <td>10</td>\n",
       "      <td>0.693147</td>\n",
       "    </tr>\n",
       "    <tr>\n",
       "      <th>1/2/17</th>\n",
       "      <td>Monday</td>\n",
       "      <td>28.9</td>\n",
       "      <td>1.33</td>\n",
       "      <td>15</td>\n",
       "      <td>0.5</td>\n",
       "      <td>13</td>\n",
       "      <td>0.285179</td>\n",
       "    </tr>\n",
       "    <tr>\n",
       "      <th>1/3/17</th>\n",
       "      <td>Tuesday</td>\n",
       "      <td>34.5</td>\n",
       "      <td>1.33</td>\n",
       "      <td>27</td>\n",
       "      <td>0.5</td>\n",
       "      <td>15</td>\n",
       "      <td>0.285179</td>\n",
       "    </tr>\n",
       "    <tr>\n",
       "      <th>1/4/17</th>\n",
       "      <td>Wednesday</td>\n",
       "      <td>44.1</td>\n",
       "      <td>1.05</td>\n",
       "      <td>28</td>\n",
       "      <td>0.5</td>\n",
       "      <td>17</td>\n",
       "      <td>0.048790</td>\n",
       "    </tr>\n",
       "    <tr>\n",
       "      <th>1/5/17</th>\n",
       "      <td>Thursday</td>\n",
       "      <td>42.4</td>\n",
       "      <td>1.00</td>\n",
       "      <td>33</td>\n",
       "      <td>0.5</td>\n",
       "      <td>18</td>\n",
       "      <td>0.000000</td>\n",
       "    </tr>\n",
       "  </tbody>\n",
       "</table>\n",
       "</div>"
      ],
      "text/plain": [
       "              Day  Temperature  Rainfall  Flyers  Price  Sales  log_rainfall\n",
       "Date                                                                        \n",
       "1/1/17     Sunday         27.0      2.00      15    0.5     10      0.693147\n",
       "1/2/17     Monday         28.9      1.33      15    0.5     13      0.285179\n",
       "1/3/17    Tuesday         34.5      1.33      27    0.5     15      0.285179\n",
       "1/4/17  Wednesday         44.1      1.05      28    0.5     17      0.048790\n",
       "1/5/17   Thursday         42.4      1.00      33    0.5     18      0.000000"
      ]
     },
     "execution_count": 39,
     "metadata": {},
     "output_type": "execute_result"
    }
   ],
   "source": [
    "df.head()"
   ]
  },
  {
   "cell_type": "code",
   "execution_count": 48,
   "metadata": {},
   "outputs": [
    {
     "data": {
      "text/html": [
       "<div>\n",
       "<style scoped>\n",
       "    .dataframe tbody tr th:only-of-type {\n",
       "        vertical-align: middle;\n",
       "    }\n",
       "\n",
       "    .dataframe tbody tr th {\n",
       "        vertical-align: top;\n",
       "    }\n",
       "\n",
       "    .dataframe thead th {\n",
       "        text-align: right;\n",
       "    }\n",
       "</style>\n",
       "<table border=\"1\" class=\"dataframe\">\n",
       "  <thead>\n",
       "    <tr style=\"text-align: right;\">\n",
       "      <th></th>\n",
       "      <th>x_flyers</th>\n",
       "      <th>y_sales</th>\n",
       "      <th>baseline</th>\n",
       "      <th>baseline_residual</th>\n",
       "      <th>yhat3</th>\n",
       "      <th>model3_residual</th>\n",
       "    </tr>\n",
       "    <tr>\n",
       "      <th>Date</th>\n",
       "      <th></th>\n",
       "      <th></th>\n",
       "      <th></th>\n",
       "      <th></th>\n",
       "      <th></th>\n",
       "      <th></th>\n",
       "    </tr>\n",
       "  </thead>\n",
       "  <tbody>\n",
       "    <tr>\n",
       "      <th>1/1/17</th>\n",
       "      <td>15</td>\n",
       "      <td>10</td>\n",
       "      <td>25.323288</td>\n",
       "      <td>15.323288</td>\n",
       "      <td>3.688573</td>\n",
       "      <td>-6.311427</td>\n",
       "    </tr>\n",
       "    <tr>\n",
       "      <th>1/2/17</th>\n",
       "      <td>15</td>\n",
       "      <td>13</td>\n",
       "      <td>25.323288</td>\n",
       "      <td>12.323288</td>\n",
       "      <td>13.198359</td>\n",
       "      <td>0.198359</td>\n",
       "    </tr>\n",
       "    <tr>\n",
       "      <th>1/3/17</th>\n",
       "      <td>27</td>\n",
       "      <td>15</td>\n",
       "      <td>25.323288</td>\n",
       "      <td>10.323288</td>\n",
       "      <td>13.198359</td>\n",
       "      <td>-1.801641</td>\n",
       "    </tr>\n",
       "    <tr>\n",
       "      <th>1/4/17</th>\n",
       "      <td>28</td>\n",
       "      <td>17</td>\n",
       "      <td>25.323288</td>\n",
       "      <td>8.323288</td>\n",
       "      <td>18.708608</td>\n",
       "      <td>1.708608</td>\n",
       "    </tr>\n",
       "    <tr>\n",
       "      <th>1/5/17</th>\n",
       "      <td>33</td>\n",
       "      <td>18</td>\n",
       "      <td>25.323288</td>\n",
       "      <td>7.323288</td>\n",
       "      <td>19.845912</td>\n",
       "      <td>1.845912</td>\n",
       "    </tr>\n",
       "  </tbody>\n",
       "</table>\n",
       "</div>"
      ],
      "text/plain": [
       "        x_flyers  y_sales   baseline  baseline_residual      yhat3  \\\n",
       "Date                                                                 \n",
       "1/1/17        15       10  25.323288          15.323288   3.688573   \n",
       "1/2/17        15       13  25.323288          12.323288  13.198359   \n",
       "1/3/17        27       15  25.323288          10.323288  13.198359   \n",
       "1/4/17        28       17  25.323288           8.323288  18.708608   \n",
       "1/5/17        33       18  25.323288           7.323288  19.845912   \n",
       "\n",
       "        model3_residual  \n",
       "Date                     \n",
       "1/1/17        -6.311427  \n",
       "1/2/17         0.198359  \n",
       "1/3/17        -1.801641  \n",
       "1/4/17         1.708608  \n",
       "1/5/17         1.845912  "
      ]
     },
     "execution_count": 48,
     "metadata": {},
     "output_type": "execute_result"
    }
   ],
   "source": [
    "eval3 = pd.DataFrame()\n",
    "eval3['x_flyers'] = df.Flyers\n",
    "eval3['y_sales'] = df.Sales\n",
    "eval3['baseline'] = df.Sales.mean()\n",
    "eval3['baseline_residual'] = eval3.baseline - eval3.y_sales\n",
    "model3 = ols('Sales ~ log_rainfall', df).fit()\n",
    "eval3[\"yhat3\"] = model3.predict()\n",
    "eval3[\"model3_residual\"] = eval3.yhat3 - eval3.y_sales\n",
    "\n",
    "eval3.head()"
   ]
  },
  {
   "cell_type": "code",
   "execution_count": 49,
   "metadata": {},
   "outputs": [
    {
     "name": "stdout",
     "output_type": "stream",
     "text": [
      "Our model beats the baseline\n",
      "It makes sense to evaluate this model more deeply.\n",
      "Baseline SSE 17297.85205479452\n",
      "Model SSE 952.325347429345\n"
     ]
    }
   ],
   "source": [
    "baseline_sse = (eval3.baseline_residual**2).sum()\n",
    "model3_sse = (eval3.model3_residual**2).sum()\n",
    "\n",
    "if model3_sse < baseline_sse:\n",
    "    print(\"Our model beats the baseline\")\n",
    "    print(\"It makes sense to evaluate this model more deeply.\")\n",
    "else:\n",
    "    print(\"Our baseline is better than the model.\")\n",
    "\n",
    "print(\"Baseline SSE\", baseline_sse)\n",
    "print(\"Model SSE\", model3_sse)"
   ]
  },
  {
   "cell_type": "code",
   "execution_count": 50,
   "metadata": {},
   "outputs": [
    {
     "name": "stdout",
     "output_type": "stream",
     "text": [
      "Model 3 evaluates log_rainfall and sales\n",
      "SSE is 952.325347429345  which is the sum sf squared errors\n",
      "MSE is 2.609110540902315  which is the average squared error\n",
      "RMSE is 1.6152741380033036  which is the square root of the MSE\n"
     ]
    }
   ],
   "source": [
    "mse3 = mean_squared_error(eval3.y_sales, eval3.yhat3)\n",
    "rmse3 = sqrt(mse3)\n",
    "\n",
    "print(\"Model 3 evaluates log_rainfall and sales\")\n",
    "print(\"SSE is\", model3_sse, \" which is the sum sf squared errors\")\n",
    "print(\"MSE is\", mse3, \" which is the average squared error\")\n",
    "print(\"RMSE is\", rmse3, \" which is the square root of the MSE\")"
   ]
  },
  {
   "cell_type": "code",
   "execution_count": 59,
   "metadata": {},
   "outputs": [
    {
     "name": "stdout",
     "output_type": "stream",
     "text": [
      "R-squared =  0.945\n",
      "p-value for model significance =  1.2242624097795882e-230\n"
     ]
    }
   ],
   "source": [
    "r2m3 = model3.rsquared\n",
    "print('R-squared = ', round(r2m3,3))\n",
    "\n",
    "f_pval3 = model3.f_pvalue\n",
    "print(\"p-value for model significance = \", f_pval3)"
   ]
  },
  {
   "cell_type": "code",
   "execution_count": 57,
   "metadata": {},
   "outputs": [
    {
     "data": {
      "text/plain": [
       "True"
      ]
     },
     "execution_count": 57,
     "metadata": {},
     "output_type": "execute_result"
    }
   ],
   "source": [
    "f_pval3 < .05"
   ]
  },
  {
   "cell_type": "code",
   "execution_count": 51,
   "metadata": {},
   "outputs": [],
   "source": [
    "# The log_rainfall performs better than the flyers model and better than Rainfall model.\n",
    "# The SSE for the log_rainfall model is half that of the Rainfall model"
   ]
  },
  {
   "cell_type": "markdown",
   "metadata": {},
   "source": [
    "#### In the next section of your notebook, perform the steps above with the temperature column as the model's only feature. \n",
    "\n",
    "#### Does this model beat the baseline? \n",
    "\n",
    "#### Would you prefer the rainfall, log_rainfall, or the flyers model?"
   ]
  },
  {
   "cell_type": "code",
   "execution_count": 53,
   "metadata": {},
   "outputs": [
    {
     "data": {
      "text/html": [
       "<div>\n",
       "<style scoped>\n",
       "    .dataframe tbody tr th:only-of-type {\n",
       "        vertical-align: middle;\n",
       "    }\n",
       "\n",
       "    .dataframe tbody tr th {\n",
       "        vertical-align: top;\n",
       "    }\n",
       "\n",
       "    .dataframe thead th {\n",
       "        text-align: right;\n",
       "    }\n",
       "</style>\n",
       "<table border=\"1\" class=\"dataframe\">\n",
       "  <thead>\n",
       "    <tr style=\"text-align: right;\">\n",
       "      <th></th>\n",
       "      <th>x_flyers</th>\n",
       "      <th>y_sales</th>\n",
       "      <th>baseline</th>\n",
       "      <th>baseline_residual</th>\n",
       "      <th>yhat4</th>\n",
       "      <th>model4_residual</th>\n",
       "    </tr>\n",
       "    <tr>\n",
       "      <th>Date</th>\n",
       "      <th></th>\n",
       "      <th></th>\n",
       "      <th></th>\n",
       "      <th></th>\n",
       "      <th></th>\n",
       "      <th></th>\n",
       "    </tr>\n",
       "  </thead>\n",
       "  <tbody>\n",
       "    <tr>\n",
       "      <th>1/1/17</th>\n",
       "      <td>15</td>\n",
       "      <td>10</td>\n",
       "      <td>25.323288</td>\n",
       "      <td>15.323288</td>\n",
       "      <td>11.112301</td>\n",
       "      <td>1.112301</td>\n",
       "    </tr>\n",
       "    <tr>\n",
       "      <th>1/2/17</th>\n",
       "      <td>15</td>\n",
       "      <td>13</td>\n",
       "      <td>25.323288</td>\n",
       "      <td>12.323288</td>\n",
       "      <td>11.912772</td>\n",
       "      <td>-1.087228</td>\n",
       "    </tr>\n",
       "    <tr>\n",
       "      <th>1/3/17</th>\n",
       "      <td>27</td>\n",
       "      <td>15</td>\n",
       "      <td>25.323288</td>\n",
       "      <td>10.323288</td>\n",
       "      <td>14.272055</td>\n",
       "      <td>-0.727945</td>\n",
       "    </tr>\n",
       "    <tr>\n",
       "      <th>1/4/17</th>\n",
       "      <td>28</td>\n",
       "      <td>17</td>\n",
       "      <td>25.323288</td>\n",
       "      <td>8.323288</td>\n",
       "      <td>18.316540</td>\n",
       "      <td>1.316540</td>\n",
       "    </tr>\n",
       "    <tr>\n",
       "      <th>1/5/17</th>\n",
       "      <td>33</td>\n",
       "      <td>18</td>\n",
       "      <td>25.323288</td>\n",
       "      <td>7.323288</td>\n",
       "      <td>17.600329</td>\n",
       "      <td>-0.399671</td>\n",
       "    </tr>\n",
       "  </tbody>\n",
       "</table>\n",
       "</div>"
      ],
      "text/plain": [
       "        x_flyers  y_sales   baseline  baseline_residual      yhat4  \\\n",
       "Date                                                                 \n",
       "1/1/17        15       10  25.323288          15.323288  11.112301   \n",
       "1/2/17        15       13  25.323288          12.323288  11.912772   \n",
       "1/3/17        27       15  25.323288          10.323288  14.272055   \n",
       "1/4/17        28       17  25.323288           8.323288  18.316540   \n",
       "1/5/17        33       18  25.323288           7.323288  17.600329   \n",
       "\n",
       "        model4_residual  \n",
       "Date                     \n",
       "1/1/17         1.112301  \n",
       "1/2/17        -1.087228  \n",
       "1/3/17        -0.727945  \n",
       "1/4/17         1.316540  \n",
       "1/5/17        -0.399671  "
      ]
     },
     "execution_count": 53,
     "metadata": {},
     "output_type": "execute_result"
    }
   ],
   "source": [
    "eval4 = pd.DataFrame()\n",
    "eval4['x_flyers'] = df.Flyers\n",
    "eval4['y_sales'] = df.Sales\n",
    "eval4['baseline'] = df.Sales.mean()\n",
    "eval4['baseline_residual'] = eval4.baseline - eval4.y_sales\n",
    "model4 = ols('Sales ~ Temperature', df).fit()\n",
    "eval4[\"yhat4\"] = model4.predict()\n",
    "eval4[\"model4_residual\"] = eval4.yhat4 - eval4.y_sales\n",
    "\n",
    "eval4.head()"
   ]
  },
  {
   "cell_type": "code",
   "execution_count": 54,
   "metadata": {},
   "outputs": [
    {
     "name": "stdout",
     "output_type": "stream",
     "text": [
      "Our model beats the baseline\n",
      "It makes sense to evaluate this model more deeply.\n",
      "Baseline SSE 17297.85205479452\n",
      "Model SSE 349.977815203168\n"
     ]
    }
   ],
   "source": [
    "baseline_sse = (eval4.baseline_residual**2).sum()\n",
    "model4_sse = (eval4.model4_residual**2).sum()\n",
    "\n",
    "if model4_sse < baseline_sse:\n",
    "    print(\"Our model beats the baseline\")\n",
    "    print(\"It makes sense to evaluate this model more deeply.\")\n",
    "else:\n",
    "    print(\"Our baseline is better than the model.\")\n",
    "\n",
    "print(\"Baseline SSE\", baseline_sse)\n",
    "print(\"Model SSE\", model4_sse)"
   ]
  },
  {
   "cell_type": "code",
   "execution_count": 55,
   "metadata": {},
   "outputs": [
    {
     "name": "stdout",
     "output_type": "stream",
     "text": [
      "Model 4 evaluates temperature and sales\n",
      "SSE is 349.977815203168  which is the sum sf squared errors\n",
      "MSE is 0.9588433293237479  which is the average squared error\n",
      "RMSE is 0.979205458177061  which is the square root of the MSE\n"
     ]
    }
   ],
   "source": [
    "mse4 = mean_squared_error(eval4.y_sales, eval4.yhat4)\n",
    "rmse4 = sqrt(mse4)\n",
    "\n",
    "print(\"Model 4 evaluates temperature and sales\")\n",
    "print(\"SSE is\", model4_sse, \" which is the sum sf squared errors\")\n",
    "print(\"MSE is\", mse4, \" which is the average squared error\")\n",
    "print(\"RMSE is\", rmse4, \" which is the square root of the MSE\")"
   ]
  },
  {
   "cell_type": "code",
   "execution_count": 58,
   "metadata": {},
   "outputs": [
    {
     "name": "stdout",
     "output_type": "stream",
     "text": [
      "R-squared =  0.98\n",
      "p-value for model significance =  1.492364042585725e-309\n"
     ]
    }
   ],
   "source": [
    "r2m4 = model4.rsquared\n",
    "print('R-squared = ', round(r2m4,3))\n",
    "\n",
    "f_pval4 = model4.f_pvalue\n",
    "print(\"p-value for model significance = \", f_pval4)"
   ]
  },
  {
   "cell_type": "code",
   "execution_count": 60,
   "metadata": {},
   "outputs": [
    {
     "data": {
      "text/plain": [
       "True"
      ]
     },
     "execution_count": 60,
     "metadata": {},
     "output_type": "execute_result"
    }
   ],
   "source": [
    "f_pval4 < .05"
   ]
  },
  {
   "cell_type": "code",
   "execution_count": 61,
   "metadata": {},
   "outputs": [],
   "source": [
    "# This model has the best performance of all 4 models with the lowest SSE, MSE, RMSE, and p-value\n",
    "# and the R-squared value is the closest to 1"
   ]
  },
  {
   "cell_type": "markdown",
   "metadata": {},
   "source": [
    "### Tips dataset\n",
    "1. Load the tips dataset from pydataset or seaborn\n",
    "2. Define your baseline for \"tip\". Our goal will be to see if we can make a model that is better than baseline for predicting tips on total_bill.\n",
    "3. Fit a linear regression model (ordinary least squares) and compute yhat, predictions of tip using total_bill. Here is some sample code to get you started:\n",
    "`from statsmodels.formula.api import ols\n",
    "from pydataset import data\n",
    "\n",
    "df = data(\"tips\")\n",
    "\n",
    "model = ols('tip ~ total_bill', data=df).fit()\n",
    "\n",
    "predictions = model.predict(df.x)`\n",
    "\n",
    "1. Calculate the sum of squared errors, explained sum of squares, total sum of squares, mean squared error, and root mean squared error for your model.\n",
    "2. Calculate the sum of squared errors, mean squared error, and root mean squared error for the baseline model (i.e. a model that always predicts the average tip amount).\n",
    "3. Write python code that compares the sum of squared errors for your model against the sum of squared errors for the baseline model and outputs whether or not your model performs better than the baseline model.\n",
    "4. What is the amount of variance explained in your model?\n",
    "5. Is your model significantly better than the baseline model?\n",
    "6. Plot the residuals for the linear regression model that you made."
   ]
  },
  {
   "cell_type": "code",
   "execution_count": 62,
   "metadata": {},
   "outputs": [],
   "source": [
    "df = data('tips')"
   ]
  },
  {
   "cell_type": "code",
   "execution_count": 64,
   "metadata": {},
   "outputs": [
    {
     "data": {
      "text/html": [
       "<div>\n",
       "<style scoped>\n",
       "    .dataframe tbody tr th:only-of-type {\n",
       "        vertical-align: middle;\n",
       "    }\n",
       "\n",
       "    .dataframe tbody tr th {\n",
       "        vertical-align: top;\n",
       "    }\n",
       "\n",
       "    .dataframe thead th {\n",
       "        text-align: right;\n",
       "    }\n",
       "</style>\n",
       "<table border=\"1\" class=\"dataframe\">\n",
       "  <thead>\n",
       "    <tr style=\"text-align: right;\">\n",
       "      <th></th>\n",
       "      <th>total_bill</th>\n",
       "      <th>tip</th>\n",
       "      <th>sex</th>\n",
       "      <th>smoker</th>\n",
       "      <th>day</th>\n",
       "      <th>time</th>\n",
       "      <th>size</th>\n",
       "    </tr>\n",
       "  </thead>\n",
       "  <tbody>\n",
       "    <tr>\n",
       "      <th>1</th>\n",
       "      <td>16.99</td>\n",
       "      <td>1.01</td>\n",
       "      <td>Female</td>\n",
       "      <td>No</td>\n",
       "      <td>Sun</td>\n",
       "      <td>Dinner</td>\n",
       "      <td>2</td>\n",
       "    </tr>\n",
       "    <tr>\n",
       "      <th>2</th>\n",
       "      <td>10.34</td>\n",
       "      <td>1.66</td>\n",
       "      <td>Male</td>\n",
       "      <td>No</td>\n",
       "      <td>Sun</td>\n",
       "      <td>Dinner</td>\n",
       "      <td>3</td>\n",
       "    </tr>\n",
       "    <tr>\n",
       "      <th>3</th>\n",
       "      <td>21.01</td>\n",
       "      <td>3.50</td>\n",
       "      <td>Male</td>\n",
       "      <td>No</td>\n",
       "      <td>Sun</td>\n",
       "      <td>Dinner</td>\n",
       "      <td>3</td>\n",
       "    </tr>\n",
       "    <tr>\n",
       "      <th>4</th>\n",
       "      <td>23.68</td>\n",
       "      <td>3.31</td>\n",
       "      <td>Male</td>\n",
       "      <td>No</td>\n",
       "      <td>Sun</td>\n",
       "      <td>Dinner</td>\n",
       "      <td>2</td>\n",
       "    </tr>\n",
       "    <tr>\n",
       "      <th>5</th>\n",
       "      <td>24.59</td>\n",
       "      <td>3.61</td>\n",
       "      <td>Female</td>\n",
       "      <td>No</td>\n",
       "      <td>Sun</td>\n",
       "      <td>Dinner</td>\n",
       "      <td>4</td>\n",
       "    </tr>\n",
       "  </tbody>\n",
       "</table>\n",
       "</div>"
      ],
      "text/plain": [
       "   total_bill   tip     sex smoker  day    time  size\n",
       "1       16.99  1.01  Female     No  Sun  Dinner     2\n",
       "2       10.34  1.66    Male     No  Sun  Dinner     3\n",
       "3       21.01  3.50    Male     No  Sun  Dinner     3\n",
       "4       23.68  3.31    Male     No  Sun  Dinner     2\n",
       "5       24.59  3.61  Female     No  Sun  Dinner     4"
      ]
     },
     "execution_count": 64,
     "metadata": {},
     "output_type": "execute_result"
    }
   ],
   "source": [
    "df.head()"
   ]
  },
  {
   "cell_type": "code",
   "execution_count": 71,
   "metadata": {},
   "outputs": [],
   "source": [
    "# create model object\n",
    "mo1 = ols('tip ~ total_bill', df).fit()\n",
    "x = 'total_bill'\n",
    "y = 'tip'\n"
   ]
  },
  {
   "cell_type": "code",
   "execution_count": 79,
   "metadata": {},
   "outputs": [],
   "source": [
    "def make_evaldf(x, y, model_object, df):\n",
    "    evaldf = pd.DataFrame()\n",
    "    evaldf['x'] = df[x]\n",
    "    evaldf['y'] = df[y]\n",
    "    evaldf['baseline'] = df[y].mean()\n",
    "    evaldf['baseline_residual'] = evaldf.baseline - evaldf.y\n",
    "    evaldf[\"yhat\"] = model_object.predict()\n",
    "    evaldf[\"model_residual\"] = evaldf.yhat - evaldf.y\n",
    "    return evaldf\n"
   ]
  },
  {
   "cell_type": "code",
   "execution_count": 84,
   "metadata": {},
   "outputs": [],
   "source": [
    "evaldf = make_evaldf(x, y, mo1, df)"
   ]
  },
  {
   "cell_type": "code",
   "execution_count": 90,
   "metadata": {},
   "outputs": [
    {
     "data": {
      "text/html": [
       "<div>\n",
       "<style scoped>\n",
       "    .dataframe tbody tr th:only-of-type {\n",
       "        vertical-align: middle;\n",
       "    }\n",
       "\n",
       "    .dataframe tbody tr th {\n",
       "        vertical-align: top;\n",
       "    }\n",
       "\n",
       "    .dataframe thead th {\n",
       "        text-align: right;\n",
       "    }\n",
       "</style>\n",
       "<table border=\"1\" class=\"dataframe\">\n",
       "  <thead>\n",
       "    <tr style=\"text-align: right;\">\n",
       "      <th></th>\n",
       "      <th>x</th>\n",
       "      <th>y</th>\n",
       "      <th>baseline</th>\n",
       "      <th>baseline_residual</th>\n",
       "      <th>yhat</th>\n",
       "      <th>model_residual</th>\n",
       "    </tr>\n",
       "  </thead>\n",
       "  <tbody>\n",
       "    <tr>\n",
       "      <th>1</th>\n",
       "      <td>16.99</td>\n",
       "      <td>1.01</td>\n",
       "      <td>2.998279</td>\n",
       "      <td>1.988279</td>\n",
       "      <td>2.704636</td>\n",
       "      <td>1.694636</td>\n",
       "    </tr>\n",
       "    <tr>\n",
       "      <th>2</th>\n",
       "      <td>10.34</td>\n",
       "      <td>1.66</td>\n",
       "      <td>2.998279</td>\n",
       "      <td>1.338279</td>\n",
       "      <td>2.006223</td>\n",
       "      <td>0.346223</td>\n",
       "    </tr>\n",
       "    <tr>\n",
       "      <th>3</th>\n",
       "      <td>21.01</td>\n",
       "      <td>3.50</td>\n",
       "      <td>2.998279</td>\n",
       "      <td>-0.501721</td>\n",
       "      <td>3.126835</td>\n",
       "      <td>-0.373165</td>\n",
       "    </tr>\n",
       "    <tr>\n",
       "      <th>4</th>\n",
       "      <td>23.68</td>\n",
       "      <td>3.31</td>\n",
       "      <td>2.998279</td>\n",
       "      <td>-0.311721</td>\n",
       "      <td>3.407250</td>\n",
       "      <td>0.097250</td>\n",
       "    </tr>\n",
       "    <tr>\n",
       "      <th>5</th>\n",
       "      <td>24.59</td>\n",
       "      <td>3.61</td>\n",
       "      <td>2.998279</td>\n",
       "      <td>-0.611721</td>\n",
       "      <td>3.502822</td>\n",
       "      <td>-0.107178</td>\n",
       "    </tr>\n",
       "  </tbody>\n",
       "</table>\n",
       "</div>"
      ],
      "text/plain": [
       "       x     y  baseline  baseline_residual      yhat  model_residual\n",
       "1  16.99  1.01  2.998279           1.988279  2.704636        1.694636\n",
       "2  10.34  1.66  2.998279           1.338279  2.006223        0.346223\n",
       "3  21.01  3.50  2.998279          -0.501721  3.126835       -0.373165\n",
       "4  23.68  3.31  2.998279          -0.311721  3.407250        0.097250\n",
       "5  24.59  3.61  2.998279          -0.611721  3.502822       -0.107178"
      ]
     },
     "execution_count": 90,
     "metadata": {},
     "output_type": "execute_result"
    }
   ],
   "source": [
    "evaldf.head()"
   ]
  },
  {
   "cell_type": "code",
   "execution_count": 92,
   "metadata": {},
   "outputs": [],
   "source": [
    "def metrics(df, model_object):\n",
    "    baseline_sse = (df.baseline_residual**2).sum()\n",
    "    model_sse = (df.model_residual**2).sum()\n",
    "\n",
    "    if model_sse < baseline_sse:\n",
    "        print(\"Our model beats the baseline\")\n",
    "        print(\"It makes sense to evaluate this model more deeply.\")\n",
    "    else:\n",
    "        print(\"Our baseline is better than the model.\")\n",
    "\n",
    "    print(\"Baseline SSE\", baseline_sse)\n",
    "    print(\"Model SSE\", model4_sse)\n",
    "    \n",
    "    mse = mean_squared_error(df.y, df.yhat)\n",
    "    rmse = sqrt(mse)\n",
    "\n",
    "    print(\"MSE is\", mse, \" which is the average squared error\")\n",
    "    print(\"RMSE is\", rmse, \" which is the square root of the MSE\")\n",
    "    \n",
    "    r2 = model_object.rsquared\n",
    "    print('R-squared = ', round(r2m4,3))\n",
    "\n",
    "    f_pval = model_object.f_pvalue\n",
    "    print(\"p-value for model significance = \", f_pval)\n",
    "    \n",
    "    alpha = .05\n",
    "    print(f'f_pval is less than {alpha} = {f_pval<alpha}')"
   ]
  },
  {
   "cell_type": "code",
   "execution_count": 93,
   "metadata": {},
   "outputs": [
    {
     "name": "stdout",
     "output_type": "stream",
     "text": [
      "Our model beats the baseline\n",
      "It makes sense to evaluate this model more deeply.\n",
      "Baseline SSE 465.2124770491804\n",
      "Model SSE 349.977815203168\n",
      "MSE is 1.036019442011377  which is the average squared error\n",
      "RMSE is 1.0178504025697377  which is the square root of the MSE\n",
      "R-squared =  0.98\n",
      "p-value for model significance =  6.692470646863376e-34\n",
      "f_pval is less than 0.05 = True\n"
     ]
    }
   ],
   "source": [
    "metrics(evaldf, mo1)"
   ]
  },
  {
   "cell_type": "code",
   "execution_count": 94,
   "metadata": {},
   "outputs": [],
   "source": [
    "# What is the amount of variance explained in your model?\n",
    "# that is the r-squared value which is 0.98"
   ]
  },
  {
   "cell_type": "code",
   "execution_count": 95,
   "metadata": {},
   "outputs": [],
   "source": [
    "def plot_residuals(actual, predicted):\n",
    "    residuals = actual - predicted\n",
    "    plt.hlines(0, actual.min(), actual.max(), ls=':')\n",
    "    plt.scatter(actual, residuals)\n",
    "    plt.ylabel('residual ($y - \\hat{y}$)')\n",
    "    plt.xlabel('actual value ($y$)')\n",
    "    plt.title('Actual vs Residual')\n",
    "    return plt.gca()"
   ]
  },
  {
   "cell_type": "code",
   "execution_count": 96,
   "metadata": {},
   "outputs": [
    {
     "data": {
      "text/plain": [
       "<matplotlib.axes._subplots.AxesSubplot at 0x7fc314320bd0>"
      ]
     },
     "execution_count": 96,
     "metadata": {},
     "output_type": "execute_result"
    },
    {
     "data": {
      "image/png": "[encoded data removed]",
      "text/plain": [
       "<Figure size 432x288 with 1 Axes>"
      ]
     },
     "metadata": {
      "needs_background": "light"
     },
     "output_type": "display_data"
    }
   ],
   "source": [
    "plot_residuals(evaldf.y, evaldf.yhat)"
   ]
  },
  {
   "cell_type": "code",
   "execution_count": null,
   "metadata": {},
   "outputs": [],
   "source": []
  }
 ],
 "metadata": {
  "kernelspec": {
   "display_name": "Python 3",
   "language": "python",
   "name": "python3"
  },
  "language_info": {
   "codemirror_mode": {
    "name": "ipython",
    "version": 3
   },
   "file_extension": ".py",
   "mimetype": "text/x-python",
   "name": "python",
   "nbconvert_exporter": "python",
   "pygments_lexer": "ipython3",
   "version": "3.7.6"
  }
 },
 "nbformat": 4,
 "nbformat_minor": 4
}
