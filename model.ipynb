{
 "cells": [
  {
   "cell_type": "markdown",
   "metadata": {},
   "source": [
    "# Required Maggie Exercises\n",
    "\n",
    "for practice:\n",
    "\n",
    "Use any dataset we have previously used that is not grades\n",
    "\n",
    "1. set baseline predictions (mean, median)\n",
    "2. evaluate the baseline (we are comparing y (actual values) to the predicted values, which are all the same value...the mean of y, e.g.)\n",
    "    - y: 19, 18, 12, 8, 5\n",
    "    - y_pred: 11, 11, 11, 11, 11\n",
    "    - LinearRegression()\n",
    "    - LassoLars()\n",
    "    - PolynomialFeatures(degree=2) ... then LinearRegression()\n",
    "3. for each one, evaluate with training predictions, and then with validate predictions\n"
   ]
  },
  {
   "cell_type": "code",
   "execution_count": 1,
   "metadata": {},
   "outputs": [],
   "source": [
    "import pandas as pd\n",
    "import numpy as np\n",
    "import wrangle\n",
    "import matplotlib.pyplot as plt\n",
    "\n",
    "import warnings\n",
    "warnings.filterwarnings(\"ignore\")\n",
    "\n",
    "from pydataset import data\n",
    "from sklearn.metrics import mean_squared_error\n",
    "from sklearn.linear_model import LinearRegression, LassoLars\n",
    "from sklearn.preprocessing import PolynomialFeatures\n",
    "from sklearn.linear_model import TweedieRegressor"
   ]
  },
  {
   "cell_type": "code",
   "execution_count": 2,
   "metadata": {},
   "outputs": [
    {
     "data": {
      "text/plain": [
       "((1224, 7), (216, 7), (255, 7))"
      ]
     },
     "execution_count": 2,
     "metadata": {},
     "output_type": "execute_result"
    }
   ],
   "source": [
    "train, validate, test = wrangle.wrangle_telco()\n",
    "train.shape, validate.shape, test.shape"
   ]
  },
  {
   "cell_type": "code",
   "execution_count": 3,
   "metadata": {},
   "outputs": [
    {
     "data": {
      "text/plain": [
       "(1224, 3)"
      ]
     },
     "execution_count": 3,
     "metadata": {},
     "output_type": "execute_result"
    }
   ],
   "source": [
    "# we have a scaled dataframe, drop columns not needed in modeling\n",
    "strain = train.drop(columns=['customer_id', 'monthly_charges', 'tenure', 'total_charges_scaled'])\n",
    "strain.shape"
   ]
  },
  {
   "cell_type": "code",
   "execution_count": 4,
   "metadata": {},
   "outputs": [
    {
     "data": {
      "text/plain": [
       "(216, 3)"
      ]
     },
     "execution_count": 4,
     "metadata": {},
     "output_type": "execute_result"
    }
   ],
   "source": [
    "# repeat drop columns for validate and test scaled dataframes\n",
    "svalidate = validate.drop(columns=['customer_id', 'monthly_charges', 'tenure', 'total_charges_scaled'])\n",
    "stest = test.drop(columns=['customer_id', 'monthly_charges', 'tenure', 'total_charges_scaled'])\n",
    "svalidate.shape"
   ]
  },
  {
   "cell_type": "code",
   "execution_count": 5,
   "metadata": {},
   "outputs": [],
   "source": [
    "# want to predict 'total_charges' and not 'total_charges_scaled' - not sure if that will work\n",
    "# split into X and y\n",
    "X_strain = strain.drop(columns=['total_charges'])\n",
    "X_svalidate = svalidate.drop(columns=['total_charges'])\n",
    "X_stest = stest.drop(columns=['total_charges'])\n",
    "\n",
    "y_strain = strain[['total_charges']]\n",
    "y_svalidate = svalidate[['total_charges']]\n",
    "y_stest = stest[['total_charges']]"
   ]
  },
  {
   "cell_type": "markdown",
   "metadata": {},
   "source": [
    "### Find the baseline"
   ]
  },
  {
   "cell_type": "code",
   "execution_count": 6,
   "metadata": {},
   "outputs": [
    {
     "data": {
      "text/plain": [
       "total_charges    3746.538235\n",
       "dtype: float64"
      ]
     },
     "execution_count": 6,
     "metadata": {},
     "output_type": "execute_result"
    }
   ],
   "source": [
    "# 1st find the mean and/or median of target variable\n",
    "np.mean(y_strain)\n",
    "# np.median(y_strain) = 0.4268"
   ]
  },
  {
   "cell_type": "code",
   "execution_count": 7,
   "metadata": {},
   "outputs": [
    {
     "name": "stdout",
     "output_type": "stream",
     "text": [
      "Baseline RMSE: 2594.1553229464807\n"
     ]
    }
   ],
   "source": [
    "# now find the root mean squared error usinging the mean as the predicted value for all oberservations\n",
    "\n",
    "# np.full will create an array of the specified length and fill all observations with the given value\n",
    "# len(y_strain) # there are 1224 observations in our y_strain array\n",
    "\n",
    "baseline_rmse = mean_squared_error(y_strain, np.full(1224, np.mean(y_strain)))**(1/2)\n",
    "print('Baseline RMSE:', baseline_rmse)"
   ]
  },
  {
   "cell_type": "markdown",
   "metadata": {},
   "source": [
    "### Linear Regression()"
   ]
  },
  {
   "cell_type": "code",
   "execution_count": 8,
   "metadata": {},
   "outputs": [],
   "source": [
    "# create the model, fit the model, use the model\n",
    "lm = LinearRegression(normalize=True)\n",
    "lm.fit(X_strain, y_strain)\n",
    "lm_pred = lm.predict(X_strain)"
   ]
  },
  {
   "cell_type": "code",
   "execution_count": 9,
   "metadata": {},
   "outputs": [
    {
     "data": {
      "text/plain": [
       "502.88782232713487"
      ]
     },
     "execution_count": 9,
     "metadata": {},
     "output_type": "execute_result"
    }
   ],
   "source": [
    "# Evaluate: compute root mean squared error\n",
    "lm_rmse = mean_squared_error(y_strain, lm_pred)**(1/2)\n",
    "lm_rmse"
   ]
  },
  {
   "cell_type": "code",
   "execution_count": 10,
   "metadata": {},
   "outputs": [],
   "source": [
    "# 2nd best performing model"
   ]
  },
  {
   "cell_type": "markdown",
   "metadata": {},
   "source": [
    "**Validate**"
   ]
  },
  {
   "cell_type": "code",
   "execution_count": 11,
   "metadata": {},
   "outputs": [],
   "source": [
    "# create the validate model, fit and use \n",
    "lm_v = LinearRegression(normalize=True)\n",
    "lm_v.fit(X_svalidate, y_svalidate)\n",
    "lm_v_pred = lm_v.predict(X_svalidate)"
   ]
  },
  {
   "cell_type": "code",
   "execution_count": 12,
   "metadata": {},
   "outputs": [
    {
     "data": {
      "text/plain": [
       "505.7788871949105"
      ]
     },
     "execution_count": 12,
     "metadata": {},
     "output_type": "execute_result"
    }
   ],
   "source": [
    "# Evaluate: compute root mean squared error\n",
    "lm_v_rmse = mean_squared_error(y_svalidate, lm_v_pred)**(1/2)\n",
    "lm_v_rmse"
   ]
  },
  {
   "cell_type": "code",
   "execution_count": 13,
   "metadata": {},
   "outputs": [],
   "source": [
    "# very similar performance on validate"
   ]
  },
  {
   "cell_type": "markdown",
   "metadata": {},
   "source": [
    "### Lasso/Lars()"
   ]
  },
  {
   "cell_type": "code",
   "execution_count": 14,
   "metadata": {},
   "outputs": [],
   "source": [
    "# create the model, fit the model, use the model\n",
    "lars = LassoLars(alpha=1)\n",
    "lars.fit(X_strain, y_strain)\n",
    "lars_pred = lars.predict(X_strain)"
   ]
  },
  {
   "cell_type": "code",
   "execution_count": 15,
   "metadata": {},
   "outputs": [
    {
     "data": {
      "text/plain": [
       "504.5981680260354"
      ]
     },
     "execution_count": 15,
     "metadata": {},
     "output_type": "execute_result"
    }
   ],
   "source": [
    "# Evaluate: compute root mean squared error\n",
    "lars_rmse = mean_squared_error(y_strain, lars_pred)**(1/2)\n",
    "lars_rmse"
   ]
  },
  {
   "cell_type": "code",
   "execution_count": 16,
   "metadata": {},
   "outputs": [],
   "source": [
    "# 3rd best"
   ]
  },
  {
   "cell_type": "markdown",
   "metadata": {},
   "source": [
    "**Validate**"
   ]
  },
  {
   "cell_type": "code",
   "execution_count": 17,
   "metadata": {},
   "outputs": [],
   "source": [
    "# create the validate model, fit and use \n",
    "lars_v = LassoLars(alpha=1)\n",
    "lars_v.fit(X_svalidate, y_svalidate)\n",
    "lars_v_pred = lars_v.predict(X_svalidate)"
   ]
  },
  {
   "cell_type": "code",
   "execution_count": 18,
   "metadata": {},
   "outputs": [
    {
     "data": {
      "text/plain": [
       "506.09783032159794"
      ]
     },
     "execution_count": 18,
     "metadata": {},
     "output_type": "execute_result"
    }
   ],
   "source": [
    "# Evaluate: compute root mean squared error\n",
    "lars_v_rmse = mean_squared_error(y_svalidate, lars_v_pred)**(1/2)\n",
    "lars_v_rmse"
   ]
  },
  {
   "cell_type": "code",
   "execution_count": 19,
   "metadata": {},
   "outputs": [],
   "source": [
    "# very similar performance on validate"
   ]
  },
  {
   "cell_type": "markdown",
   "metadata": {},
   "source": [
    "### Polynomial Freatures + Linear Regression()"
   ]
  },
  {
   "cell_type": "code",
   "execution_count": 20,
   "metadata": {},
   "outputs": [],
   "source": [
    "# create the model, fit the model, use the model\n",
    "# make the polynomial thing\n",
    "pf = PolynomialFeatures(degree=2)\n",
    "\n",
    "# fit and transform the thing\n",
    "# to get a new set of features..which are the original features sqauared\n",
    "X_strain = pf.fit_transform(X_strain)\n",
    "\n",
    "# feed that data into our linear model. \n",
    "# make the thing\n",
    "lm_squared = LinearRegression()\n",
    "lm_squared.fit(X_strain, y_strain)\n",
    "lm_squared_pred = lm_squared.predict(X_strain)"
   ]
  },
  {
   "cell_type": "code",
   "execution_count": 21,
   "metadata": {},
   "outputs": [
    {
     "data": {
      "text/plain": [
       "84.75294691352919"
      ]
     },
     "execution_count": 21,
     "metadata": {},
     "output_type": "execute_result"
    }
   ],
   "source": [
    "# Evaluate: compute root mean squared error\n",
    "lm_squared_rmse = mean_squared_error(y_strain, lm_squared_pred)**(1/2)\n",
    "lm_squared_rmse"
   ]
  },
  {
   "cell_type": "code",
   "execution_count": 22,
   "metadata": {},
   "outputs": [],
   "source": [
    "# this is the best of the 4 models, however, it may be overfit"
   ]
  },
  {
   "cell_type": "markdown",
   "metadata": {},
   "source": [
    "**validate**"
   ]
  },
  {
   "cell_type": "code",
   "execution_count": 23,
   "metadata": {},
   "outputs": [],
   "source": [
    "# create the model, fit the model, use the model\n",
    "# make the polynomial thing\n",
    "pf_v = PolynomialFeatures(degree=2)\n",
    "\n",
    "# fit and transform the thing\n",
    "# to get a new set of features..which are the original features sqauared\n",
    "X_svalidate = pf_v.fit_transform(X_svalidate)\n",
    "\n",
    "# feed that data into our linear model. \n",
    "# make the thing\n",
    "lm_v_squared = LinearRegression()\n",
    "lm_v_squared.fit(X_svalidate, y_svalidate)\n",
    "lm_v_squared_pred = lm_v_squared.predict(X_svalidate)"
   ]
  },
  {
   "cell_type": "code",
   "execution_count": 24,
   "metadata": {},
   "outputs": [
    {
     "data": {
      "text/plain": [
       "79.88687866976178"
      ]
     },
     "execution_count": 24,
     "metadata": {},
     "output_type": "execute_result"
    }
   ],
   "source": [
    "# Evaluate: compute root mean squared error\n",
    "lm_v_squared_rmse = mean_squared_error(y_svalidate, lm_v_squared_pred)**(1/2)\n",
    "lm_v_squared_rmse"
   ]
  },
  {
   "cell_type": "code",
   "execution_count": 25,
   "metadata": {},
   "outputs": [],
   "source": [
    "# very similar performance on validate\n",
    "# suprising that this performed well and not overfit"
   ]
  },
  {
   "cell_type": "markdown",
   "metadata": {},
   "source": [
    "### TweedieRegressor()"
   ]
  },
  {
   "cell_type": "code",
   "execution_count": 26,
   "metadata": {},
   "outputs": [],
   "source": [
    "# create the model, fit the model, use the model\n",
    "tr = TweedieRegressor()\n",
    "tr.fit(X_strain, y_strain)\n",
    "tr_pred = tr.predict(X_strain)"
   ]
  },
  {
   "cell_type": "code",
   "execution_count": 27,
   "metadata": {},
   "outputs": [
    {
     "data": {
      "text/plain": [
       "1895.9348095952935"
      ]
     },
     "execution_count": 27,
     "metadata": {},
     "output_type": "execute_result"
    }
   ],
   "source": [
    "# Evaluate: compute root mean squared error\n",
    "tr_rmse = mean_squared_error(y_strain, tr_pred)**(1/2)\n",
    "tr_rmse"
   ]
  },
  {
   "cell_type": "code",
   "execution_count": 28,
   "metadata": {},
   "outputs": [],
   "source": [
    "# while this RMSE is an improvement from the Baseline it is the worst of the 4 models"
   ]
  },
  {
   "cell_type": "markdown",
   "metadata": {},
   "source": [
    "**validate**"
   ]
  },
  {
   "cell_type": "code",
   "execution_count": 29,
   "metadata": {},
   "outputs": [],
   "source": [
    "# create the model, fit the model, use the model\n",
    "tr_v = TweedieRegressor()\n",
    "tr_v.fit(X_svalidate, y_svalidate)\n",
    "tr_v_pred = tr_v.predict(X_svalidate)"
   ]
  },
  {
   "cell_type": "code",
   "execution_count": 30,
   "metadata": {},
   "outputs": [
    {
     "data": {
      "text/plain": [
       "1883.1241715662945"
      ]
     },
     "execution_count": 30,
     "metadata": {},
     "output_type": "execute_result"
    }
   ],
   "source": [
    "# Evaluate: compute root mean squared error\n",
    "tr_v_rmse = mean_squared_error(y_svalidate, tr_v_pred)**(1/2)\n",
    "tr_v_rmse"
   ]
  },
  {
   "cell_type": "code",
   "execution_count": 31,
   "metadata": {},
   "outputs": [],
   "source": [
    "# very similar performance on validate"
   ]
  },
  {
   "cell_type": "markdown",
   "metadata": {},
   "source": [
    "# same above with different dataset"
   ]
  },
  {
   "cell_type": "code",
   "execution_count": 32,
   "metadata": {},
   "outputs": [
    {
     "data": {
      "text/html": [
       "<div>\n",
       "<style scoped>\n",
       "    .dataframe tbody tr th:only-of-type {\n",
       "        vertical-align: middle;\n",
       "    }\n",
       "\n",
       "    .dataframe tbody tr th {\n",
       "        vertical-align: top;\n",
       "    }\n",
       "\n",
       "    .dataframe thead th {\n",
       "        text-align: right;\n",
       "    }\n",
       "</style>\n",
       "<table border=\"1\" class=\"dataframe\">\n",
       "  <thead>\n",
       "    <tr style=\"text-align: right;\">\n",
       "      <th></th>\n",
       "      <th>total_bill</th>\n",
       "      <th>tip</th>\n",
       "      <th>sex</th>\n",
       "      <th>smoker</th>\n",
       "      <th>day</th>\n",
       "      <th>time</th>\n",
       "      <th>size</th>\n",
       "    </tr>\n",
       "  </thead>\n",
       "  <tbody>\n",
       "    <tr>\n",
       "      <th>1</th>\n",
       "      <td>16.99</td>\n",
       "      <td>1.01</td>\n",
       "      <td>Female</td>\n",
       "      <td>No</td>\n",
       "      <td>Sun</td>\n",
       "      <td>Dinner</td>\n",
       "      <td>2</td>\n",
       "    </tr>\n",
       "    <tr>\n",
       "      <th>2</th>\n",
       "      <td>10.34</td>\n",
       "      <td>1.66</td>\n",
       "      <td>Male</td>\n",
       "      <td>No</td>\n",
       "      <td>Sun</td>\n",
       "      <td>Dinner</td>\n",
       "      <td>3</td>\n",
       "    </tr>\n",
       "    <tr>\n",
       "      <th>3</th>\n",
       "      <td>21.01</td>\n",
       "      <td>3.50</td>\n",
       "      <td>Male</td>\n",
       "      <td>No</td>\n",
       "      <td>Sun</td>\n",
       "      <td>Dinner</td>\n",
       "      <td>3</td>\n",
       "    </tr>\n",
       "    <tr>\n",
       "      <th>4</th>\n",
       "      <td>23.68</td>\n",
       "      <td>3.31</td>\n",
       "      <td>Male</td>\n",
       "      <td>No</td>\n",
       "      <td>Sun</td>\n",
       "      <td>Dinner</td>\n",
       "      <td>2</td>\n",
       "    </tr>\n",
       "    <tr>\n",
       "      <th>5</th>\n",
       "      <td>24.59</td>\n",
       "      <td>3.61</td>\n",
       "      <td>Female</td>\n",
       "      <td>No</td>\n",
       "      <td>Sun</td>\n",
       "      <td>Dinner</td>\n",
       "      <td>4</td>\n",
       "    </tr>\n",
       "  </tbody>\n",
       "</table>\n",
       "</div>"
      ],
      "text/plain": [
       "   total_bill   tip     sex smoker  day    time  size\n",
       "1       16.99  1.01  Female     No  Sun  Dinner     2\n",
       "2       10.34  1.66    Male     No  Sun  Dinner     3\n",
       "3       21.01  3.50    Male     No  Sun  Dinner     3\n",
       "4       23.68  3.31    Male     No  Sun  Dinner     2\n",
       "5       24.59  3.61  Female     No  Sun  Dinner     4"
      ]
     },
     "execution_count": 32,
     "metadata": {},
     "output_type": "execute_result"
    }
   ],
   "source": [
    "tips = data('tips')\n",
    "tips.head()"
   ]
  },
  {
   "cell_type": "code",
   "execution_count": 33,
   "metadata": {},
   "outputs": [
    {
     "name": "stdout",
     "output_type": "stream",
     "text": [
      "<class 'pandas.core.frame.DataFrame'>\n",
      "Int64Index: 244 entries, 1 to 244\n",
      "Data columns (total 7 columns):\n",
      " #   Column      Non-Null Count  Dtype  \n",
      "---  ------      --------------  -----  \n",
      " 0   total_bill  244 non-null    float64\n",
      " 1   tip         244 non-null    float64\n",
      " 2   sex         244 non-null    object \n",
      " 3   smoker      244 non-null    object \n",
      " 4   day         244 non-null    object \n",
      " 5   time        244 non-null    object \n",
      " 6   size        244 non-null    int64  \n",
      "dtypes: float64(2), int64(1), object(4)\n",
      "memory usage: 15.2+ KB\n"
     ]
    }
   ],
   "source": [
    "tips.info()"
   ]
  },
  {
   "cell_type": "code",
   "execution_count": 34,
   "metadata": {},
   "outputs": [],
   "source": [
    "# it makes sense to convert object type columns to numeric values at this point\n",
    "# create a mask to identify the object columns\n",
    "mask = np.array(tips.dtypes == 'object')\n",
    "# create a df using the mask\n",
    "objdf = tips.iloc[:, mask]\n",
    "# get dummies\n",
    "dummy_df = pd.get_dummies(objdf, dummy_na=False, drop_first=True)\n",
    "# put the dummies with the original\n",
    "df = pd.concat([tips, dummy_df], axis=1)\n",
    "# drop the columns from the original we now have dummies for\n",
    "df.drop(columns=objdf.columns, inplace=True)"
   ]
  },
  {
   "cell_type": "code",
   "execution_count": 35,
   "metadata": {},
   "outputs": [
    {
     "data": {
      "text/html": [
       "<div>\n",
       "<style scoped>\n",
       "    .dataframe tbody tr th:only-of-type {\n",
       "        vertical-align: middle;\n",
       "    }\n",
       "\n",
       "    .dataframe tbody tr th {\n",
       "        vertical-align: top;\n",
       "    }\n",
       "\n",
       "    .dataframe thead th {\n",
       "        text-align: right;\n",
       "    }\n",
       "</style>\n",
       "<table border=\"1\" class=\"dataframe\">\n",
       "  <thead>\n",
       "    <tr style=\"text-align: right;\">\n",
       "      <th></th>\n",
       "      <th>total_bill</th>\n",
       "      <th>tip</th>\n",
       "      <th>size</th>\n",
       "      <th>sex_Male</th>\n",
       "      <th>smoker_Yes</th>\n",
       "      <th>day_Sat</th>\n",
       "      <th>day_Sun</th>\n",
       "      <th>day_Thur</th>\n",
       "      <th>time_Lunch</th>\n",
       "    </tr>\n",
       "  </thead>\n",
       "  <tbody>\n",
       "    <tr>\n",
       "      <th>1</th>\n",
       "      <td>16.99</td>\n",
       "      <td>1.01</td>\n",
       "      <td>2</td>\n",
       "      <td>0</td>\n",
       "      <td>0</td>\n",
       "      <td>0</td>\n",
       "      <td>1</td>\n",
       "      <td>0</td>\n",
       "      <td>0</td>\n",
       "    </tr>\n",
       "    <tr>\n",
       "      <th>2</th>\n",
       "      <td>10.34</td>\n",
       "      <td>1.66</td>\n",
       "      <td>3</td>\n",
       "      <td>1</td>\n",
       "      <td>0</td>\n",
       "      <td>0</td>\n",
       "      <td>1</td>\n",
       "      <td>0</td>\n",
       "      <td>0</td>\n",
       "    </tr>\n",
       "    <tr>\n",
       "      <th>3</th>\n",
       "      <td>21.01</td>\n",
       "      <td>3.50</td>\n",
       "      <td>3</td>\n",
       "      <td>1</td>\n",
       "      <td>0</td>\n",
       "      <td>0</td>\n",
       "      <td>1</td>\n",
       "      <td>0</td>\n",
       "      <td>0</td>\n",
       "    </tr>\n",
       "    <tr>\n",
       "      <th>4</th>\n",
       "      <td>23.68</td>\n",
       "      <td>3.31</td>\n",
       "      <td>2</td>\n",
       "      <td>1</td>\n",
       "      <td>0</td>\n",
       "      <td>0</td>\n",
       "      <td>1</td>\n",
       "      <td>0</td>\n",
       "      <td>0</td>\n",
       "    </tr>\n",
       "    <tr>\n",
       "      <th>5</th>\n",
       "      <td>24.59</td>\n",
       "      <td>3.61</td>\n",
       "      <td>4</td>\n",
       "      <td>0</td>\n",
       "      <td>0</td>\n",
       "      <td>0</td>\n",
       "      <td>1</td>\n",
       "      <td>0</td>\n",
       "      <td>0</td>\n",
       "    </tr>\n",
       "  </tbody>\n",
       "</table>\n",
       "</div>"
      ],
      "text/plain": [
       "   total_bill   tip  size  sex_Male  smoker_Yes  day_Sat  day_Sun  day_Thur  \\\n",
       "1       16.99  1.01     2         0           0        0        1         0   \n",
       "2       10.34  1.66     3         1           0        0        1         0   \n",
       "3       21.01  3.50     3         1           0        0        1         0   \n",
       "4       23.68  3.31     2         1           0        0        1         0   \n",
       "5       24.59  3.61     4         0           0        0        1         0   \n",
       "\n",
       "   time_Lunch  \n",
       "1           0  \n",
       "2           0  \n",
       "3           0  \n",
       "4           0  \n",
       "5           0  "
      ]
     },
     "execution_count": 35,
     "metadata": {},
     "output_type": "execute_result"
    }
   ],
   "source": [
    "df.head()"
   ]
  },
  {
   "cell_type": "code",
   "execution_count": 36,
   "metadata": {},
   "outputs": [],
   "source": [
    "df = df.rename(columns={'size': 'party_size'})"
   ]
  },
  {
   "cell_type": "code",
   "execution_count": 37,
   "metadata": {},
   "outputs": [
    {
     "data": {
      "text/html": [
       "<div>\n",
       "<style scoped>\n",
       "    .dataframe tbody tr th:only-of-type {\n",
       "        vertical-align: middle;\n",
       "    }\n",
       "\n",
       "    .dataframe tbody tr th {\n",
       "        vertical-align: top;\n",
       "    }\n",
       "\n",
       "    .dataframe thead th {\n",
       "        text-align: right;\n",
       "    }\n",
       "</style>\n",
       "<table border=\"1\" class=\"dataframe\">\n",
       "  <thead>\n",
       "    <tr style=\"text-align: right;\">\n",
       "      <th></th>\n",
       "      <th>total_bill</th>\n",
       "      <th>tip</th>\n",
       "      <th>party_size</th>\n",
       "      <th>sex_Male</th>\n",
       "      <th>smoker_Yes</th>\n",
       "      <th>day_Sat</th>\n",
       "      <th>day_Sun</th>\n",
       "      <th>day_Thur</th>\n",
       "      <th>time_Lunch</th>\n",
       "      <th>price_person</th>\n",
       "      <th>percentage_tip</th>\n",
       "    </tr>\n",
       "  </thead>\n",
       "  <tbody>\n",
       "    <tr>\n",
       "      <th>1</th>\n",
       "      <td>16.99</td>\n",
       "      <td>1.01</td>\n",
       "      <td>2</td>\n",
       "      <td>0</td>\n",
       "      <td>0</td>\n",
       "      <td>0</td>\n",
       "      <td>1</td>\n",
       "      <td>0</td>\n",
       "      <td>0</td>\n",
       "      <td>8.495000</td>\n",
       "      <td>0.059447</td>\n",
       "    </tr>\n",
       "    <tr>\n",
       "      <th>2</th>\n",
       "      <td>10.34</td>\n",
       "      <td>1.66</td>\n",
       "      <td>3</td>\n",
       "      <td>1</td>\n",
       "      <td>0</td>\n",
       "      <td>0</td>\n",
       "      <td>1</td>\n",
       "      <td>0</td>\n",
       "      <td>0</td>\n",
       "      <td>3.446667</td>\n",
       "      <td>0.160542</td>\n",
       "    </tr>\n",
       "    <tr>\n",
       "      <th>3</th>\n",
       "      <td>21.01</td>\n",
       "      <td>3.50</td>\n",
       "      <td>3</td>\n",
       "      <td>1</td>\n",
       "      <td>0</td>\n",
       "      <td>0</td>\n",
       "      <td>1</td>\n",
       "      <td>0</td>\n",
       "      <td>0</td>\n",
       "      <td>7.003333</td>\n",
       "      <td>0.166587</td>\n",
       "    </tr>\n",
       "    <tr>\n",
       "      <th>4</th>\n",
       "      <td>23.68</td>\n",
       "      <td>3.31</td>\n",
       "      <td>2</td>\n",
       "      <td>1</td>\n",
       "      <td>0</td>\n",
       "      <td>0</td>\n",
       "      <td>1</td>\n",
       "      <td>0</td>\n",
       "      <td>0</td>\n",
       "      <td>11.840000</td>\n",
       "      <td>0.139780</td>\n",
       "    </tr>\n",
       "    <tr>\n",
       "      <th>5</th>\n",
       "      <td>24.59</td>\n",
       "      <td>3.61</td>\n",
       "      <td>4</td>\n",
       "      <td>0</td>\n",
       "      <td>0</td>\n",
       "      <td>0</td>\n",
       "      <td>1</td>\n",
       "      <td>0</td>\n",
       "      <td>0</td>\n",
       "      <td>6.147500</td>\n",
       "      <td>0.146808</td>\n",
       "    </tr>\n",
       "  </tbody>\n",
       "</table>\n",
       "</div>"
      ],
      "text/plain": [
       "   total_bill   tip  party_size  sex_Male  smoker_Yes  day_Sat  day_Sun  \\\n",
       "1       16.99  1.01           2         0           0        0        1   \n",
       "2       10.34  1.66           3         1           0        0        1   \n",
       "3       21.01  3.50           3         1           0        0        1   \n",
       "4       23.68  3.31           2         1           0        0        1   \n",
       "5       24.59  3.61           4         0           0        0        1   \n",
       "\n",
       "   day_Thur  time_Lunch  price_person  percentage_tip  \n",
       "1         0           0      8.495000        0.059447  \n",
       "2         0           0      3.446667        0.160542  \n",
       "3         0           0      7.003333        0.166587  \n",
       "4         0           0     11.840000        0.139780  \n",
       "5         0           0      6.147500        0.146808  "
      ]
     },
     "execution_count": 37,
     "metadata": {},
     "output_type": "execute_result"
    }
   ],
   "source": [
    "# create some additional features\n",
    "df['price_person'] = df.total_bill / df.party_size\n",
    "df['percentage_tip'] = df.tip / df.total_bill\n",
    "df.head()"
   ]
  },
  {
   "cell_type": "code",
   "execution_count": 38,
   "metadata": {},
   "outputs": [
    {
     "data": {
      "text/plain": [
       "((136, 11), (59, 11), (49, 11))"
      ]
     },
     "execution_count": 38,
     "metadata": {},
     "output_type": "execute_result"
    }
   ],
   "source": [
    "from sklearn.model_selection import train_test_split\n",
    "# now split the data into train, validate, test\n",
    "train_validate, test = train_test_split(df, test_size=.2, random_state=123)\n",
    "train, validate = train_test_split(train_validate, test_size=.3, random_state=123)\n",
    "train.shape, validate.shape, test.shape"
   ]
  },
  {
   "cell_type": "code",
   "execution_count": 39,
   "metadata": {},
   "outputs": [],
   "source": [
    "# separate into X and y datasets\n",
    "X_train = train.drop(columns=['tip'])\n",
    "X_validate = validate.drop(columns=['tip'])\n",
    "X_test = test.drop(columns=['tip'])\n",
    "\n",
    "y_train = train[['tip']]\n",
    "y_validate = validate[['tip']]\n",
    "y_test = test[['tip']]"
   ]
  },
  {
   "cell_type": "code",
   "execution_count": 40,
   "metadata": {},
   "outputs": [],
   "source": [
    "# now scale X_train dataset\n",
    "from sklearn.preprocessing import MinMaxScaler\n",
    "# scaling data, not sure MinMaxScaler is the best one to use here, but proceeding with this one to save time\n",
    "scaler = MinMaxScaler(copy=True).fit(X_train)\n",
    "\n",
    "X_train_scaled = scaler.transform(X_train)\n",
    "X_validate_scaled = scaler.transform(X_validate)\n",
    "X_test_scaled = scaler.transform(X_test)\n",
    "# note this returns X_train_scaled as an array"
   ]
  },
  {
   "cell_type": "code",
   "execution_count": 41,
   "metadata": {},
   "outputs": [],
   "source": [
    "# convert scaled array back to df\n",
    "# convert array to dataframe\n",
    "X_train_scaled = pd.DataFrame(X_train_scaled, columns=X_train.columns.values).set_index([X_train.index.values])\n",
    "X_validate_scaled = pd.DataFrame(X_validate_scaled, columns=X_validate.columns.values).set_index([X_validate.index.values])\n",
    "X_test_scaled = pd.DataFrame(X_test_scaled, columns=X_test.columns.values).set_index([X_test.index.values])"
   ]
  },
  {
   "cell_type": "markdown",
   "metadata": {},
   "source": [
    "### Baseline"
   ]
  },
  {
   "cell_type": "code",
   "execution_count": 42,
   "metadata": {},
   "outputs": [
    {
     "data": {
      "text/plain": [
       "2.68"
      ]
     },
     "execution_count": 42,
     "metadata": {},
     "output_type": "execute_result"
    }
   ],
   "source": [
    "# 1st find the mean and/or median of target variable\n",
    "#np.mean(y_train) #2.947\n",
    "np.median(y_train) #2.68\n",
    "# will use median due to outliers"
   ]
  },
  {
   "cell_type": "code",
   "execution_count": 43,
   "metadata": {},
   "outputs": [
    {
     "name": "stdout",
     "output_type": "stream",
     "text": [
      "Baseline RMSE: 1.475600326487295\n"
     ]
    }
   ],
   "source": [
    "# now find the root mean squared error usinging the mean as the predicted value for all oberservations\n",
    "\n",
    "# np.full will create an array of the specified length and fill all observations with the given value\n",
    "# len(y_train) # there are 136 observations in our y_strain array\n",
    "\n",
    "baseline_rmse = mean_squared_error(y_train, np.full(136, np.median(y_train)))**(1/2)\n",
    "print('Baseline RMSE:', baseline_rmse)"
   ]
  },
  {
   "cell_type": "markdown",
   "metadata": {},
   "source": [
    "### Linear Regression()"
   ]
  },
  {
   "cell_type": "code",
   "execution_count": 44,
   "metadata": {},
   "outputs": [],
   "source": [
    "# create the model, fit the model, use the model\n",
    "lmt = LinearRegression(normalize=True)\n",
    "lmt.fit(X_train_scaled, y_train)\n",
    "lmt_pred = lmt.predict(X_train_scaled)"
   ]
  },
  {
   "cell_type": "code",
   "execution_count": 45,
   "metadata": {},
   "outputs": [
    {
     "data": {
      "text/plain": [
       "0.5574411659250524"
      ]
     },
     "execution_count": 45,
     "metadata": {},
     "output_type": "execute_result"
    }
   ],
   "source": [
    "# Evaluate: compute root mean squared error\n",
    "lmt_rmse = mean_squared_error(y_train, lmt_pred)**(1/2)\n",
    "lmt_rmse"
   ]
  },
  {
   "cell_type": "code",
   "execution_count": 46,
   "metadata": {},
   "outputs": [],
   "source": [
    "# this looks like a pretty good model"
   ]
  },
  {
   "cell_type": "markdown",
   "metadata": {},
   "source": [
    "**Validate**"
   ]
  },
  {
   "cell_type": "code",
   "execution_count": 47,
   "metadata": {},
   "outputs": [],
   "source": [
    "# create the validate model, fit and use \n",
    "lmt_v = LinearRegression(normalize=True)\n",
    "lmt_v.fit(X_validate_scaled, y_validate)\n",
    "lmt_v_pred = lmt_v.predict(X_validate_scaled)"
   ]
  },
  {
   "cell_type": "code",
   "execution_count": 48,
   "metadata": {},
   "outputs": [
    {
     "data": {
      "text/plain": [
       "0.43574645795053957"
      ]
     },
     "execution_count": 48,
     "metadata": {},
     "output_type": "execute_result"
    }
   ],
   "source": [
    "# Evaluate: compute root mean squared error\n",
    "lmt_v_rmse = mean_squared_error(y_validate, lmt_v_pred)**(1/2)\n",
    "lmt_v_rmse"
   ]
  },
  {
   "cell_type": "code",
   "execution_count": 49,
   "metadata": {},
   "outputs": [],
   "source": [
    "# this is better than the train result"
   ]
  },
  {
   "cell_type": "markdown",
   "metadata": {},
   "source": [
    "### Lasso/Lars()"
   ]
  },
  {
   "cell_type": "code",
   "execution_count": 50,
   "metadata": {},
   "outputs": [],
   "source": [
    "# create the model, fit the model, use the model\n",
    "larst = LassoLars(alpha=1)\n",
    "larst.fit(X_train_scaled, y_train)\n",
    "larst_pred = larst.predict(X_train_scaled)"
   ]
  },
  {
   "cell_type": "code",
   "execution_count": 51,
   "metadata": {},
   "outputs": [
    {
     "data": {
      "text/plain": [
       "1.4512460770849047"
      ]
     },
     "execution_count": 51,
     "metadata": {},
     "output_type": "execute_result"
    }
   ],
   "source": [
    "# Evaluate: compute root mean squared error\n",
    "larst_rmse = mean_squared_error(y_train, larst_pred)**(1/2)\n",
    "larst_rmse"
   ]
  },
  {
   "cell_type": "code",
   "execution_count": 52,
   "metadata": {},
   "outputs": [],
   "source": [
    "# this is barely better than the baseline of 1.475"
   ]
  },
  {
   "cell_type": "markdown",
   "metadata": {},
   "source": [
    "**Validate**"
   ]
  },
  {
   "cell_type": "code",
   "execution_count": 53,
   "metadata": {},
   "outputs": [],
   "source": [
    "# create the validate model, fit and use \n",
    "larst_v = LassoLars(alpha=1)\n",
    "larst_v.fit(X_validate_scaled, y_validate)\n",
    "larst_v_pred = larst_v.predict(X_validate_scaled)"
   ]
  },
  {
   "cell_type": "code",
   "execution_count": 54,
   "metadata": {},
   "outputs": [
    {
     "data": {
      "text/plain": [
       "1.4971893422202531"
      ]
     },
     "execution_count": 54,
     "metadata": {},
     "output_type": "execute_result"
    }
   ],
   "source": [
    "# Evaluate: compute root mean squared error\n",
    "larst_v_rmse = mean_squared_error(y_validate, larst_v_pred)**(1/2)\n",
    "larst_v_rmse"
   ]
  },
  {
   "cell_type": "code",
   "execution_count": 55,
   "metadata": {},
   "outputs": [],
   "source": [
    "# this is worse than the baseline"
   ]
  },
  {
   "cell_type": "markdown",
   "metadata": {},
   "source": [
    "### Polynomial Freatures + Linear Regression()"
   ]
  },
  {
   "cell_type": "code",
   "execution_count": 56,
   "metadata": {},
   "outputs": [],
   "source": [
    "# create the model, fit the model, use the model\n",
    "# make the polynomial thing\n",
    "pf = PolynomialFeatures(degree=2)"
   ]
  },
  {
   "cell_type": "code",
   "execution_count": 57,
   "metadata": {},
   "outputs": [],
   "source": [
    "# fit and transform the thing\n",
    "# to get a new set of features..which are the original features sqauared\n",
    "X_train_scaledp = pf.fit_transform(X_train_scaled)"
   ]
  },
  {
   "cell_type": "code",
   "execution_count": 58,
   "metadata": {},
   "outputs": [],
   "source": [
    "# feed that data into our linear model. \n",
    "# make the thing\n",
    "lmt_squared = LinearRegression()\n",
    "lmt_squared.fit(X_train_scaledp, y_train)\n",
    "lmt_squared_pred = lmt_squared.predict(X_train_scaledp)"
   ]
  },
  {
   "cell_type": "code",
   "execution_count": 59,
   "metadata": {},
   "outputs": [
    {
     "data": {
      "text/plain": [
       "4.320356304405854e-15"
      ]
     },
     "execution_count": 59,
     "metadata": {},
     "output_type": "execute_result"
    }
   ],
   "source": [
    "# Evaluate: compute root mean squared error\n",
    "lmt_squared_rmse = mean_squared_error(y_train, lmt_squared_pred)**(1/2)\n",
    "lmt_squared_rmse"
   ]
  },
  {
   "cell_type": "code",
   "execution_count": 60,
   "metadata": {},
   "outputs": [],
   "source": [
    "# this is a very small error, however, it may be overfit"
   ]
  },
  {
   "cell_type": "markdown",
   "metadata": {},
   "source": [
    "**validate**"
   ]
  },
  {
   "cell_type": "code",
   "execution_count": 61,
   "metadata": {},
   "outputs": [],
   "source": [
    "# create the model, fit the model, use the model\n",
    "# make the polynomial thing\n",
    "pf_v = PolynomialFeatures(degree=2)\n",
    "\n",
    "# fit and transform the thing\n",
    "# to get a new set of features..which are the original features sqauared\n",
    "X_validate_scaledp = pf_v.fit_transform(X_validate_scaled)"
   ]
  },
  {
   "cell_type": "code",
   "execution_count": 62,
   "metadata": {},
   "outputs": [],
   "source": [
    "# feed that data into our linear model. \n",
    "# make the thing\n",
    "lmt_v_squared = LinearRegression()\n",
    "lmt_v_squared.fit(X_validate_scaledp, y_validate)\n",
    "lmt_v_squared_pred = lmt_v_squared.predict(X_validate_scaledp)"
   ]
  },
  {
   "cell_type": "code",
   "execution_count": 63,
   "metadata": {},
   "outputs": [
    {
     "data": {
      "text/plain": [
       "3.2581221974017203e-15"
      ]
     },
     "execution_count": 63,
     "metadata": {},
     "output_type": "execute_result"
    }
   ],
   "source": [
    "# Evaluate: compute root mean squared error\n",
    "lmt_v_squared_rmse = mean_squared_error(y_validate, lmt_v_squared_pred)**(1/2)\n",
    "lmt_v_squared_rmse"
   ]
  },
  {
   "cell_type": "code",
   "execution_count": 64,
   "metadata": {},
   "outputs": [],
   "source": [
    "# this is even smaller than the train RMSE"
   ]
  },
  {
   "cell_type": "markdown",
   "metadata": {},
   "source": [
    "**test**"
   ]
  },
  {
   "cell_type": "code",
   "execution_count": 66,
   "metadata": {},
   "outputs": [],
   "source": [
    "# create the model, fit the model, use the model\n",
    "# make the polynomial thing\n",
    "pf_t = PolynomialFeatures(degree=2)\n",
    "\n",
    "# fit and transform the thing\n",
    "# to get a new set of features..which are the original features sqauared\n",
    "X_test_scaledp = pf_t.fit_transform(X_test_scaled)\n",
    "\n",
    "# feed that data into our linear model. \n",
    "# make the thing\n",
    "lmt_t_squared = LinearRegression()\n",
    "lmt_t_squared.fit(X_test_scaledp, y_test)\n",
    "lmt_t_squared_pred = lmt_t_squared.predict(X_test_scaledp)"
   ]
  },
  {
   "cell_type": "code",
   "execution_count": 67,
   "metadata": {},
   "outputs": [
    {
     "data": {
      "text/plain": [
       "8.59770276642386e-15"
      ]
     },
     "execution_count": 67,
     "metadata": {},
     "output_type": "execute_result"
    }
   ],
   "source": [
    "# Evaluate: compute root mean squared error\n",
    "lmt_t_squared_rmse = mean_squared_error(y_test, lmt_t_squared_pred)**(1/2)\n",
    "lmt_t_squared_rmse"
   ]
  },
  {
   "cell_type": "code",
   "execution_count": null,
   "metadata": {},
   "outputs": [],
   "source": [
    "# not quite as good as performance on train and validate, but still the best of all models"
   ]
  },
  {
   "cell_type": "markdown",
   "metadata": {},
   "source": [
    "### TweedieRegressor()"
   ]
  },
  {
   "cell_type": "code",
   "execution_count": null,
   "metadata": {},
   "outputs": [],
   "source": [
    "# create the model, fit the model, use the model\n",
    "trt = TweedieRegressor()\n",
    "trt.fit(X_train_scaled, y_train)\n",
    "trt_pred = trt.predict(X_train_scaled)"
   ]
  },
  {
   "cell_type": "code",
   "execution_count": null,
   "metadata": {},
   "outputs": [],
   "source": [
    "# Evaluate: compute root mean squared error\n",
    "trt_rmse = mean_squared_error(y_train, trt_pred)**(1/2)\n",
    "trt_rmse"
   ]
  },
  {
   "cell_type": "code",
   "execution_count": null,
   "metadata": {},
   "outputs": [],
   "source": [
    "# this is not much better than the baseline"
   ]
  },
  {
   "cell_type": "markdown",
   "metadata": {},
   "source": [
    "**validate**"
   ]
  },
  {
   "cell_type": "code",
   "execution_count": null,
   "metadata": {},
   "outputs": [],
   "source": [
    "# create the model, fit the model, use the model\n",
    "trt_v = TweedieRegressor()\n",
    "trt_v.fit(X_validate_scaled, y_validate)\n",
    "trt_v_pred = trt_v.predict(X_validate_scaled)"
   ]
  },
  {
   "cell_type": "code",
   "execution_count": null,
   "metadata": {},
   "outputs": [],
   "source": [
    "# Evaluate: compute root mean squared error\n",
    "trt_v_rmse = mean_squared_error(y_validate, trt_v_pred)**(1/2)\n",
    "trt_v_rmse"
   ]
  },
  {
   "cell_type": "code",
   "execution_count": null,
   "metadata": {},
   "outputs": [],
   "source": [
    "# this is barely lower than the baseline of 1.475"
   ]
  },
  {
   "cell_type": "markdown",
   "metadata": {},
   "source": [
    "# Model Exercises - in ciriculum\n",
    "Using the data on student grades from this lesson, complete the following:\n",
    "\n",
    "1. Split the data into train, validate, and test datasets.\n",
    "2. Create a model that uses exam 1 to predict the final grade.\n",
    "3. Create a model that uses exam 2 to predict the final grade.\n",
    "4. Compare your models in the following manner:\n",
    "    - Calculate the mean squared error\n",
    "    - Visualize the residuals. Create a seperate visualization for each model.\n",
    "    - Visualize the actual vs the predicted values. Create a seperate visualization for each model.\n",
    "    - Bonus: Combine the seperate visualizations for each model into a single visualization. Is this visual helpful?\n",
    "5. Create a model that uses exam 1 and exam 3 to predict final grade. How does this model compare to your previous ones?\n",
    "6. Take your best preforming model and measure its performance on the validate data set. How does the performance differ between train and validate?\n",
    "7. Make a 4th model with a slight difference like one more/less feature or a single hyperparameter that's different to see if you can beat that the last model's performance on validate.\n",
    "8. Tune your models using validate to improve performance. Select the model w/ the best performance and evaluate that one on test, to get a more clear understanding of how it will perform on out-of-sample data.\n",
    "\n",
    "**Our scenario continues:**\n",
    "\n",
    "As a customer analyst, I want to know who has spent the most money with us over their lifetime. I have monthly charges and tenure, so I think I will be able to use those two attributes as features to estimate total_charges. I need to do this within an average of $5.00 per customer.\n",
    "\n",
    "1. Run all your previous scripts that acquired, prepared, split, and scaled the telco churn data.\n",
    "2. it 3 different linear models to your data, one with just tenure, one with just monthly_charges, and one with both.\n",
    "3. Evaluate the models and your baseline.\n",
    "4. Select the model that performed the best, and evaluate it with your validate data.\n",
    "5. Make a 4th model with a slight difference like one more feature or a single hyperparameter that's different to see if you can beat that the last model's performance on validate.\n",
    "6. Tune your models using validate to improve performance. Select the model w/ the best performance and evaluate that one on test, to get a more clear understanding of how it will perform on out-of-sample data.\n"
   ]
  }
 ],
 "metadata": {
  "kernelspec": {
   "display_name": "Python 3",
   "language": "python",
   "name": "python3"
  },
  "language_info": {
   "codemirror_mode": {
    "name": "ipython",
    "version": 3
   },
   "file_extension": ".py",
   "mimetype": "text/x-python",
   "name": "python",
   "nbconvert_exporter": "python",
   "pygments_lexer": "ipython3",
   "version": "3.7.6"
  }
 },
 "nbformat": 4,
 "nbformat_minor": 4
}
